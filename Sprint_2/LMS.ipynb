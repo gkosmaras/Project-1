{
 "cells": [
  {
   "cell_type": "code",
   "execution_count": null,
   "metadata": {},
   "outputs": [],
   "source": [
    "my_name=\"Georgios Kosmaras\"\n",
    "print(my_name)"
   ]
  },
  {
   "cell_type": "code",
   "execution_count": null,
   "metadata": {},
   "outputs": [],
   "source": [
    "age=25\n",
    "print(age)"
   ]
  },
  {
   "cell_type": "code",
   "execution_count": null,
   "metadata": {},
   "outputs": [],
   "source": [
    "julia_age=32\n",
    "age_diff=age-julia_age\n",
    "print(age_diff)"
   ]
  },
  {
   "cell_type": "code",
   "execution_count": null,
   "metadata": {},
   "outputs": [],
   "source": [
    "if age > 21:\n",
    "    print(\"You are older than 21\")\n",
    "elif age < 21:\n",
    "    print(\"You are not older than 21\")\n",
    "else:\n",
    "    print(\"You are 21\")"
   ]
  },
  {
   "cell_type": "code",
   "execution_count": null,
   "metadata": {},
   "outputs": [],
   "source": [
    "if age > julia_age:\n",
    "    print(\"Julia is younger than you\")\n",
    "elif age < julia_age:\n",
    "    print(\"Julia is older than you\")\n",
    "else:\n",
    "    print(\"You have the same age as Julia\")"
   ]
  },
  {
   "cell_type": "code",
   "execution_count": null,
   "metadata": {},
   "outputs": [],
   "source": [
    "name_list = [\"Alejandro Manuel\", \"Marta\", \"Arno\", \"Jess\",\"Angelina\",\"Kyung\",\"Nidhi\",\"Georgios\",\"John\",\"Karolina\",\"Raúl\",\"Kilian\",\"Sarah\",\"Virginia\",\"Kofi\",\"Lucas\",\"Ottavia\",\"Jost\",\"Kai\"]\n",
    "name_list=sorted(name_list)\n",
    "print(name_list[0])\n",
    "print(name_list[18])\n",
    "for i in range(len(name_list)):\n",
    "    print(name_list[i])"
   ]
  },
  {
   "cell_type": "code",
   "execution_count": null,
   "metadata": {},
   "outputs": [],
   "source": [
    "age_list=[18,19,20,21,22,23,24,25,26,27,28,29,30,31,32,33]\n",
    "for i in range(len(age_list)):\n",
    "    print(age_list[i])\n",
    "for i in range(len(age_list)):\n",
    "    if (age_list[i] % 2) == 0:\n",
    "        print(age_list[i])"
   ]
  },
  {
   "cell_type": "code",
   "execution_count": null,
   "metadata": {},
   "outputs": [],
   "source": [
    "age_list=[18,19,20,21,22,23,24,25,26,27,28,29,30,31,32,33]\n",
    "i=0\n",
    "while i < len(age_list):\n",
    "    print(age_list[i])\n",
    "    i=i+1\n",
    "\n",
    "i=0\n",
    "while i < len(age_list):\n",
    "    if (age_list[i] % 2) == 0:\n",
    "        print(age_list[i])\n",
    "    i=i+1"
   ]
  },
  {
   "cell_type": "code",
   "execution_count": 114,
   "metadata": {},
   "outputs": [
    {
     "ename": "TypeError",
     "evalue": "'int' object is not callable",
     "output_type": "error",
     "traceback": [
      "\u001b[1;31m---------------------------------------------------------------------------\u001b[0m",
      "\u001b[1;31mTypeError\u001b[0m                                 Traceback (most recent call last)",
      "\u001b[1;32m~\\AppData\\Local\\Temp/ipykernel_24920/830694184.py\u001b[0m in \u001b[0;36m<module>\u001b[1;34m\u001b[0m\n\u001b[0;32m      1\u001b[0m \u001b[0mnum_list\u001b[0m\u001b[1;33m=\u001b[0m\u001b[1;33m[\u001b[0m\u001b[1;36m1\u001b[0m\u001b[1;33m,\u001b[0m\u001b[1;36m4\u001b[0m\u001b[1;33m,\u001b[0m\u001b[1;36m7\u001b[0m\u001b[1;33m,\u001b[0m\u001b[1;36m3\u001b[0m\u001b[1;33m,\u001b[0m\u001b[1;36m7\u001b[0m\u001b[1;33m,\u001b[0m\u001b[1;36m47\u001b[0m\u001b[1;33m,\u001b[0m\u001b[1;36m62\u001b[0m\u001b[1;33m,\u001b[0m\u001b[1;36m94\u001b[0m\u001b[1;33m,\u001b[0m\u001b[1;36m94378\u001b[0m\u001b[1;33m,\u001b[0m\u001b[1;36m473\u001b[0m\u001b[1;33m,\u001b[0m\u001b[1;36m83\u001b[0m\u001b[1;33m,\u001b[0m\u001b[1;36m6\u001b[0m\u001b[1;33m,\u001b[0m\u001b[1;36m2\u001b[0m\u001b[1;33m,\u001b[0m\u001b[1;36m99\u001b[0m\u001b[1;33m,\u001b[0m\u001b[1;36m58\u001b[0m\u001b[1;33m,\u001b[0m\u001b[1;36m336\u001b[0m\u001b[1;33m,\u001b[0m\u001b[1;36m22\u001b[0m\u001b[1;33m,\u001b[0m\u001b[1;36m85\u001b[0m\u001b[1;33m,\u001b[0m\u001b[1;36m32\u001b[0m\u001b[1;33m,\u001b[0m\u001b[1;36m98\u001b[0m\u001b[1;33m,\u001b[0m\u001b[1;36m1\u001b[0m\u001b[1;33m]\u001b[0m\u001b[1;33m\u001b[0m\u001b[1;33m\u001b[0m\u001b[0m\n\u001b[1;32m----> 2\u001b[1;33m \u001b[0mmin\u001b[0m\u001b[1;33m(\u001b[0m\u001b[0mnum_list\u001b[0m\u001b[1;33m)\u001b[0m\u001b[1;33m\u001b[0m\u001b[1;33m\u001b[0m\u001b[0m\n\u001b[0m",
      "\u001b[1;31mTypeError\u001b[0m: 'int' object is not callable"
     ]
    }
   ],
   "source": [
    "num_list=[1,4,7,3,7,47,62,94,94378,473,83,6,2,99,58,336,22,85,32,98,1]\n",
    "min(num_list)\n"
   ]
  },
  {
   "cell_type": "code",
   "execution_count": null,
   "metadata": {},
   "outputs": [],
   "source": [
    "num_list=[1,4,7,3,7,47,62,94,94378,473,83,6,2,99,58,336,22,85,32,98,1]\n",
    "max=num_list[0]\n",
    "for i in range(len(num_list)):\n",
    "    if num_list[i] > max:\n",
    "        max=num_list[i]\n",
    "print(max)"
   ]
  },
  {
   "cell_type": "code",
   "execution_count": null,
   "metadata": {},
   "outputs": [],
   "source": [
    "cus_list=[1999, 1995, 2005, 2010, 2007, 2006, 1994, 1996, 1979, 2008]\n",
    "for i in range(len(cus_list)):\n",
    "    print(2022-cus_list[i])\n"
   ]
  },
  {
   "cell_type": "code",
   "execution_count": 12,
   "metadata": {},
   "outputs": [
    {
     "name": "stdout",
     "output_type": "stream",
     "text": [
      "{'name': 'Bob', 'age': 1999}\n",
      "{'name': 'Jack', 'age': 1995}\n",
      "{'name': 'Lisa', 'age': 2005}\n",
      "{'name': 'Maria', 'age': 2010}\n",
      "{'name': 'Ben', 'age': 2007}\n",
      "{'name': 'Emma', 'age': 2006}\n",
      "{'name': 'Oscar', 'age': 1994}\n",
      "{'name': 'Amy', 'age': 1996}\n",
      "{'name': 'Paul', 'age': 1979}\n",
      "{'name': 'Etta', 'age': 2008}\n"
     ]
    }
   ],
   "source": [
    "customer_list = [\n",
    "                    {\"name\": \"Bob\", \"age\": 1999},\n",
    "                    {\"name\": \"Jack\", \"age\": 1995},\n",
    "                    {\"name\": \"Lisa\", \"age\": 2005},\n",
    "                    {\"name\": \"Maria\", \"age\": 2010},\n",
    "                    {\"name\": \"Ben\", \"age\": 2007},\n",
    "                    {\"name\": \"Emma\", \"age\": 2006},\n",
    "                    {\"name\": \"Oscar\", \"age\": 1994},\n",
    "                    {\"name\": \"Amy\", \"age\": 1996},\n",
    "                    {\"name\": \"Paul\", \"age\": 1979},\n",
    "                    {\"name\": \"Etta\", \"age\": 2008}\n",
    "                ]\n",
    "for i in range(len(customer_list)):\n",
    "    print(customer_list[i])"
   ]
  },
  {
   "cell_type": "code",
   "execution_count": 29,
   "metadata": {},
   "outputs": [
    {
     "name": "stdout",
     "output_type": "stream",
     "text": [
      "[24, 14, 12, 13, 25, 23, 40, 11]\n"
     ]
    }
   ],
   "source": [
    "ages = [20, 24, 14, 9, 12, 13, 25, 23, 40, 11]\n",
    "maximum = ages[0]\n",
    "minimum = ages[0]\n",
    "for i in range(len(ages)):\n",
    "    if maximum > ages[i]:\n",
    "        maximum=ages[i]\n",
    "    if minimum < ages[i]:\n",
    "        minimum=ages[0]\n",
    "ages.remove(maximum)\n",
    "ages.remove(minimum)\n",
    "print(ages)"
   ]
  },
  {
   "cell_type": "code",
   "execution_count": null,
   "metadata": {},
   "outputs": [],
   "source": [
    "berlin = [15, 13, 16, 18, 19, 10, 12 ]\n",
    "munich = [7, 13, 15, 20, 19, 18, 10, 16]\n",
    "common_ages=[]\n",
    "for i in range(len(berlin)):\n",
    "    for x in range(len(munich)):\n",
    "        if berlin[i]==munich[x]:\n",
    "            common_ages.append(berlin[i])\n",
    "print(common_ages)"
   ]
  },
  {
   "cell_type": "code",
   "execution_count": null,
   "metadata": {},
   "outputs": [],
   "source": [
    "final_list=[15,13,16,18,19,15,10]\n",
    "final_list=(set(final_list))\n",
    "print(final_list)"
   ]
  },
  {
   "cell_type": "code",
   "execution_count": 3,
   "metadata": {},
   "outputs": [
    {
     "name": "stdout",
     "output_type": "stream",
     "text": [
      "Welcome Evelyn, have a nice day!\n"
     ]
    }
   ],
   "source": [
    "def welcome(name):\n",
    "    print(\"Welcome \"+name+\", have a nice day!\")\n",
    "welcome(\"Evelyn\")"
   ]
  },
  {
   "cell_type": "code",
   "execution_count": 8,
   "metadata": {},
   "outputs": [
    {
     "name": "stdout",
     "output_type": "stream",
     "text": [
      "8\n"
     ]
    }
   ],
   "source": [
    "def get_length(word):\n",
    "    print(len(word))\n",
    "get_length(\"rhetoric\")"
   ]
  },
  {
   "cell_type": "code",
   "execution_count": 1,
   "metadata": {},
   "outputs": [
    {
     "name": "stdout",
     "output_type": "stream",
     "text": [
      "No\n"
     ]
    }
   ],
   "source": [
    "def check_even(x):\n",
    "    if (x%2)==0:\n",
    "        print(\"Yes\")\n",
    "    else:\n",
    "        print(\"No\")\n",
    "check_even(42435)"
   ]
  },
  {
   "cell_type": "code",
   "execution_count": null,
   "metadata": {},
   "outputs": [],
   "source": [
    "def exc11():"
   ]
  },
  {
   "cell_type": "code",
   "execution_count": 65,
   "metadata": {},
   "outputs": [
    {
     "name": "stdout",
     "output_type": "stream",
     "text": [
      "[20, 24, 14, 12, 13, 25, 23, 11]\n"
     ]
    }
   ],
   "source": [
    "ages=[20, 24, 14, 9, 12, 13, 25, 23, 40, 11]\n",
    "def exc_12(age_list):\n",
    "    maxi=age_list[0]\n",
    "    mini=age_list[0]\n",
    "    for i in range(len(age_list)):\n",
    "        if age_list[i]>maxi:\n",
    "            maxi=age_list[i]\n",
    "        if age_list[i]<mini:\n",
    "            mini=age_list[i]\n",
    "    age_list.remove(maxi)\n",
    "    age_list.remove(mini)\n",
    "    print(age_list)\n",
    "exc_12(ages)"
   ]
  },
  {
   "cell_type": "code",
   "execution_count": 35,
   "metadata": {},
   "outputs": [
    {
     "name": "stdout",
     "output_type": "stream",
     "text": [
      "[15, 13, 16, 18, 19, 10]\n"
     ]
    }
   ],
   "source": [
    "berlin = [15, 13, 16, 18, 19, 10, 12 ]\n",
    "munich = [7, 13, 15, 20, 19, 18, 10, 16]\n",
    "def exc_13(city1,city2):\n",
    "    cmn_cities=[]\n",
    "    for i in range(len(city1)):\n",
    "        for x in range(len(city2)):\n",
    "            if city1[i]==city2[x]:\n",
    "                cmn_cities.append(city1[i])\n",
    "    print(cmn_cities)\n",
    "exc_13(berlin,munich)"
   ]
  },
  {
   "cell_type": "code",
   "execution_count": 36,
   "metadata": {},
   "outputs": [
    {
     "name": "stdout",
     "output_type": "stream",
     "text": [
      "{10, 13, 15, 16, 18, 19}\n"
     ]
    }
   ],
   "source": [
    "fx=[15,13,16,18,19,15,10]\n",
    "def exc_14(list):\n",
    "    list=set(list)\n",
    "    print(list)\n",
    "exc_14(fx)\n"
   ]
  },
  {
   "cell_type": "code",
   "execution_count": 48,
   "metadata": {},
   "outputs": [
    {
     "name": "stdout",
     "output_type": "stream",
     "text": [
      "True\n"
     ]
    }
   ],
   "source": [
    "x=[20, 24, 14, 9, 12, 13, 25, 88, 23, 40, 11]\n",
    "y=20\n",
    "def exc_19(in_list,wntd_age):\n",
    "    answr=0\n",
    "    for i in range(len(in_list)):\n",
    "        if wntd_age==in_list[i]:\n",
    "            answr=1\n",
    "    print(answr==1)\n",
    "exc_19(x,y)\n"
   ]
  }
 ],
 "metadata": {
  "interpreter": {
   "hash": "d4ca260931255454fde840190d1592bc9540e5d22da7c62476b4271349462b5e"
  },
  "kernelspec": {
   "display_name": "Python 3.9.7 ('base')",
   "language": "python",
   "name": "python3"
  },
  "language_info": {
   "codemirror_mode": {
    "name": "ipython",
    "version": 3
   },
   "file_extension": ".py",
   "mimetype": "text/x-python",
   "name": "python",
   "nbconvert_exporter": "python",
   "pygments_lexer": "ipython3",
   "version": "3.9.7"
  },
  "orig_nbformat": 4
 },
 "nbformat": 4,
 "nbformat_minor": 2
}
