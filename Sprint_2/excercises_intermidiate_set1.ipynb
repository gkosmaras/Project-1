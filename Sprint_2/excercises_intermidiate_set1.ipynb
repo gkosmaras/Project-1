{
 "cells": [
  {
   "cell_type": "code",
   "execution_count": null,
   "metadata": {},
   "outputs": [],
   "source": [
    "#SET 1 EXC.1\n",
    "\n",
    "list1=[1,11,111,3,33,333,4,5,55,555,7,77,777]\n",
    "list2=[2,22,222,4,44,444,5,6,66,666,8,88,888]\n",
    "def find_outlier(x):\n",
    "    count_odd=0\n",
    "    count_even=0\n",
    "    for i in range(3):\n",
    "        if (x[i]%2)==0:\n",
    "            count_even=count_even+1\n",
    "        else:\n",
    "            count_odd=count_odd+1\n",
    "    if count_odd>=2:\n",
    "        for i in range(len(x)):\n",
    "            if (x[i]%2==0):\n",
    "                outlier=x[i]\n",
    "    else:\n",
    "        for i in range(len(x)):\n",
    "            if (x[i]%2==1):\n",
    "                outlier=x[i]\n",
    "    print(outlier)\n",
    "find_outlier(list1)"
   ]
  },
  {
   "cell_type": "code",
   "execution_count": null,
   "metadata": {},
   "outputs": [],
   "source": [
    "#SET 1 EXC.2\n",
    "\n",
    "list1=[1,2,3,4,5,6,7,8,9,2,4,6,8,9]\n",
    "list2=[1,4,7,9,2]\n",
    "def array_diff(a,b):\n",
    "    for i in range(len(b)):\n",
    "        a.remove(b[i])\n",
    "    print(a)\n"
   ]
  },
  {
   "cell_type": "code",
   "execution_count": 5,
   "metadata": {},
   "outputs": [
    {
     "name": "stdout",
     "output_type": "stream",
     "text": [
      "Bart, Lisa, Maggie, Homer & Marge\n"
     ]
    }
   ],
   "source": [
    "#SET 1 EXC.3\n",
    "\n",
    "def namelist(names):\n",
    "    names = [i['name'] for i in names]\n",
    "    if len(names)>2:\n",
    "        print(\", \".join(names[:-1])+\" & \"+str(names[-1]))\n",
    "    elif len(names)==2:\n",
    "        print(\" & \".join(names))\n",
    "    elif len(names)==1:\n",
    "        print(names[0])\n",
    "    else:\n",
    "        print(\"\")\n",
    "\n",
    "#([ {'name': 'Bart'},{'name': 'Lisa'},{'name': 'Maggie'},{'name': 'Homer'},{'name': 'Marge'}])"
   ]
  },
  {
   "cell_type": "code",
   "execution_count": 21,
   "metadata": {},
   "outputs": [
    {
     "name": "stdout",
     "output_type": "stream",
     "text": [
      "[1, 2, 3, 5, 6]\n"
     ]
    }
   ],
   "source": [
    "#SET 1 EXC.4\n",
    "\n",
    "list=[1,2,3,\"sd\",5,\"rd\",\"kd\",6]\n",
    "def no_str(x):\n",
    "    filter_list=[]\n",
    "    for i in range(len(x)):\n",
    "        if type(x[i])!=str:\n",
    "            filter_list.append(x[i])\n",
    "    print(filter_list)\n",
    "no_str(list)"
   ]
  },
  {
   "cell_type": "code",
   "execution_count": null,
   "metadata": {},
   "outputs": [],
   "source": [
    "#SET 1 EXC.5\n",
    "\n",
    "list=[20,1,-1,2,-2,3,3,5,5,1,2,4,20,4,-1,-2,5]\n",
    "def find_int(x):\n",
    "    i=0\n",
    "    count_int=0\n",
    "    while i<=len(x):\n",
    "        for y in range(len(x)):\n",
    "            if x[i]==x[y]:\n",
    "                count_int=count_int+1\n",
    "        if (count_int%2)==1:\n",
    "            lf=x[i]\n",
    "            i=len(x)*2\n",
    "        i=i+1    \n",
    "    print(lf)\n",
    "find_int(list)    "
   ]
  },
  {
   "cell_type": "code",
   "execution_count": 6,
   "metadata": {},
   "outputs": [
    {
     "name": "stdout",
     "output_type": "stream",
     "text": [
      "True\n"
     ]
    }
   ],
   "source": [
    "#SET 1 EXC.6\n",
    "\n",
    "eg=\"oooxxngnrhxnrn\"\n",
    "def xo_counter(cnt):\n",
    "    cnt=cnt.lower()\n",
    "    x=cnt.count(\"x\")\n",
    "    o=cnt.count(\"o\")\n",
    "    print(x==o)\n",
    "xo_counter(eg)"
   ]
  },
  {
   "cell_type": "code",
   "execution_count": 22,
   "metadata": {},
   "outputs": [
    {
     "data": {
      "text/plain": [
       "False"
      ]
     },
     "execution_count": 22,
     "metadata": {},
     "output_type": "execute_result"
    }
   ],
   "source": [
    "#SET 1 EXC.7\n",
    "\n",
    "def pin_check(x):\n",
    "    if x.isdigit():\n",
    "        return len(x)==4 or len(x)==6\n",
    "    else:\n",
    "        return False\n",
    "pin_check(\"123s434\")"
   ]
  },
  {
   "cell_type": "code",
   "execution_count": null,
   "metadata": {},
   "outputs": [],
   "source": [
    "#SET 1 EXC.8\n",
    "\n",
    "e=\"Despite, the; pure rhetoric. of: the- regime/on the moon\"\n",
    "e=e.replace(\", \",\" \")\n",
    "e=e.replace(\"/\",\" \")\n",
    "e=e.replace(\". \",\" \")\n",
    "e=e.replace(\"; \",\" \")\n",
    "e=e.replace(\": \",\" \")\n",
    "e=e.replace(\"? \",\" \")\n",
    "e=e.replace(\"- \",\" \")\n",
    "x=e.split(\" \")\n",
    "letters=100\n",
    "for i in range(len(x)):\n",
    "    if len(x[i])<letters:\n",
    "        letters=len(x[i])\n",
    "print(e)\n",
    "print(x)\n",
    "print(letters)\n"
   ]
  },
  {
   "cell_type": "code",
   "execution_count": 37,
   "metadata": {},
   "outputs": [
    {
     "name": "stdout",
     "output_type": "stream",
     "text": [
      "m\n"
     ]
    }
   ],
   "source": [
    "#SET 1 EXC.9\n",
    "\n",
    "abc=[\"a\",\"b\",\"c\",\"d\",\"e\",\"f\",\"g\",\"h\",\"i\",\"j\",\"k\",\"l\",\"m\",\"n\",\"o\",\"p\",\"q\",\"r\",\"s\",\"t\",\"u\",\"v\",\"w\",\"x\",\"y\",\"z\"]\n",
    "strg=[\"a\",\"b\",\"c\",\"d\",\"e\",\"f\",\"g\",\"h\",\"i\",\"j\",\"k\",\"l\",\"n\",\"o\",\"p\"]\n",
    "i=0\n",
    "x=0\n",
    "while abc[i]!=strg[x]:\n",
    "    i=i+1\n",
    "while abc[i]==strg[x]:\n",
    "    i=i+1\n",
    "    x=x+1\n",
    "else:\n",
    "    msng=abc[i]\n",
    "print(msng)"
   ]
  },
  {
   "cell_type": "code",
   "execution_count": null,
   "metadata": {},
   "outputs": [],
   "source": [
    "#SET 1 EXC.10\n",
    "\n",
    "y=[\"Ryan\",\"George\",\"Jack\",\"Maria\",\"Mary\"]\n",
    "def fr_filter(x):\n",
    "    fr_list=[]\n",
    "    for i in range(len(x)):\n",
    "        if len(x[i])==4:\n",
    "            fr_list.append(x[i])\n",
    "    print(fr_list)\n",
    "fr_filter(y)"
   ]
  }
 ],
 "metadata": {
  "interpreter": {
   "hash": "d4ca260931255454fde840190d1592bc9540e5d22da7c62476b4271349462b5e"
  },
  "kernelspec": {
   "display_name": "Python 3.9.7 ('base')",
   "language": "python",
   "name": "python3"
  },
  "language_info": {
   "codemirror_mode": {
    "name": "ipython",
    "version": 3
   },
   "file_extension": ".py",
   "mimetype": "text/x-python",
   "name": "python",
   "nbconvert_exporter": "python",
   "pygments_lexer": "ipython3",
   "version": "3.9.7"
  },
  "orig_nbformat": 4
 },
 "nbformat": 4,
 "nbformat_minor": 2
}
