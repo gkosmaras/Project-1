{
 "cells": [
  {
   "cell_type": "code",
   "execution_count": 3,
   "metadata": {},
   "outputs": [
    {
     "name": "stdout",
     "output_type": "stream",
     "text": [
      "Counter({'a': 5, 'b': 2, 'r': 2, 'c': 1, 'd': 1})\n"
     ]
    }
   ],
   "source": [
    "#SET 2 EXC.1\n",
    "\n",
    "from collections import Counter\n",
    "    \n",
    "def ordered_count(word):\n",
    "    print(Counter(word))\n",
    "\n",
    "ordered_count(\"abracadabra\")"
   ]
  },
  {
   "cell_type": "code",
   "execution_count": 1,
   "metadata": {},
   "outputs": [
    {
     "name": "stdout",
     "output_type": "stream",
     "text": [
      "True\n"
     ]
    }
   ],
   "source": [
    "#SET 2 EXC.2\n",
    "num=548834\n",
    "pwr=len(list(str(num)))\n",
    "intgr = [int(x) for x in str(num)]\n",
    "sum=0\n",
    "for i in range(len(intgr)):\n",
    "    sum=sum+(intgr[i]**pwr)\n",
    "print(num==sum)"
   ]
  },
  {
   "cell_type": "code",
   "execution_count": 5,
   "metadata": {},
   "outputs": [
    {
     "name": "stdout",
     "output_type": "stream",
     "text": [
      "True\n"
     ]
    }
   ],
   "source": [
    "#SET 2 EXC.3\n",
    "\n",
    "abc=[\"a\",\"b\",\"c\",\"d\",\"e\",\"f\",\"g\",\"h\",\"i\",\"j\",\"k\",\"l\",\"m\",\"n\",\"o\",\"p\",\"q\",\"r\",\"s\",\"t\",\"u\",\"v\",\"w\",\"x\",\"y\",\"z\"]\n",
    "stc=\"Pack my box with five dozen liquor jugs.\"\n",
    "stc=set(list(stc))\n",
    "results=[]\n",
    "count=0\n",
    "for i in stc:\n",
    "    if i.isalpha():\n",
    "        results.append(i)\n",
    "print(len(abc)==len(results))"
   ]
  },
  {
   "cell_type": "code",
   "execution_count": 2,
   "metadata": {},
   "outputs": [
    {
     "name": "stdout",
     "output_type": "stream",
     "text": [
      "True\n"
     ]
    }
   ],
   "source": [
    "#SET 2 EXC.4\n",
    "\n",
    "cor=[\"s\",\"n\",\"s\",\"n\",\"n\",\"s\",\"e\",\"w\",\"e\",\"w\"]\n",
    "n=cor.count(\"n\")\n",
    "s=cor.count(\"s\")\n",
    "e=cor.count(\"e\")\n",
    "w=cor.count(\"w\")\n",
    "print(n==s and e==w and len(cor)==10)"
   ]
  }
 ],
 "metadata": {
  "interpreter": {
   "hash": "d4ca260931255454fde840190d1592bc9540e5d22da7c62476b4271349462b5e"
  },
  "kernelspec": {
   "display_name": "Python 3.9.7 ('base')",
   "language": "python",
   "name": "python3"
  },
  "language_info": {
   "codemirror_mode": {
    "name": "ipython",
    "version": 3
   },
   "file_extension": ".py",
   "mimetype": "text/x-python",
   "name": "python",
   "nbconvert_exporter": "python",
   "pygments_lexer": "ipython3",
   "version": "3.9.7"
  },
  "orig_nbformat": 4
 },
 "nbformat": 4,
 "nbformat_minor": 2
}
