{
 "cells": [
  {
   "cell_type": "code",
   "execution_count": 17,
   "metadata": {},
   "outputs": [
    {
     "data": {
      "text/plain": [
       "26"
      ]
     },
     "execution_count": 17,
     "metadata": {},
     "output_type": "execute_result"
    }
   ],
   "source": [
    "#SET 4 EXC.1\n",
    "\n",
    "def number_of_years(pop,gwth,new,trgt):\n",
    "    gwth=gwth/100\n",
    "    yrs=0\n",
    "    while pop<trgt:\n",
    "        pop+=(pop*+gwth)+new\n",
    "        pop=int(pop)\n",
    "        yrs+=1\n",
    "    return(yrs)\n",
    "number_of_years(1500, 5, 100, 10000)"
   ]
  },
  {
   "cell_type": "code",
   "execution_count": 11,
   "metadata": {},
   "outputs": [
    {
     "name": "stderr",
     "output_type": "stream",
     "text": [
      "[nltk_data] Downloading package words to\n",
      "[nltk_data]     C:\\Users\\giorg\\AppData\\Roaming\\nltk_data...\n",
      "[nltk_data]   Package words is already up-to-date!\n"
     ]
    }
   ],
   "source": [
    "#SET 4 EXC.2\n",
    "\n",
    "import nltk\n",
    "nltk.download(\"words\")\n",
    "vocab = set(w.lower() for w in nltk.corpus.words.words())"
   ]
  },
  {
   "cell_type": "code",
   "execution_count": 16,
   "metadata": {},
   "outputs": [
    {
     "name": "stdout",
     "output_type": "stream",
     "text": [
      "Process finished --- 0.0009992122650146484 seconds ---\n",
      "['despite', 'the', 'purer', 'het', 'or', 'i', 'c']\n"
     ]
    }
   ],
   "source": [
    "#SET 4 EXC.2 - CONT.\n",
    "\n",
    "import time\n",
    "start_time=time.time()\n",
    "def max_match(x):\n",
    "    i = 0\n",
    "    x=x.lower()\n",
    "    ans=[]\n",
    "    while i < len(x):\n",
    "        max = \"\"\n",
    "        for j in range(i, len(x)):\n",
    "            temp = x[i:j+1]\n",
    "            if temp in vocab and len(temp) > len(max):\n",
    "                max = temp\n",
    "        i = i+len(max)\n",
    "        ans.append(max)\n",
    "    print(ans)\n",
    "print(\"Process finished --- %s seconds ---\" % (time.time() - start_time))\n",
    "max_match(\"despitethepurerhetoric\")"
   ]
  },
  {
   "cell_type": "code",
   "execution_count": 38,
   "metadata": {},
   "outputs": [
    {
     "name": "stdout",
     "output_type": "stream",
     "text": [
      "True\n"
     ]
    }
   ],
   "source": [
    "#SET 4 EXC.3\n",
    "\n",
    "def circle(x):\n",
    "    cnt=0\n",
    "    for i in range(0,len(x)):\n",
    "        if x[i-1] > x[i]:\n",
    "            cnt+=1\n",
    "    print(cnt<=1)\n",
    "\n",
    "circle([5, 7, 43, 987, -9, 0])\n",
    "\n"
   ]
  },
  {
   "cell_type": "code",
   "execution_count": 3,
   "metadata": {},
   "outputs": [
    {
     "data": {
      "text/plain": [
       "'NO'"
      ]
     },
     "execution_count": 3,
     "metadata": {},
     "output_type": "execute_result"
    }
   ],
   "source": [
    "#SET 4 EXC.4\n",
    "\n",
    "def tickets(x):\n",
    "    b25=b50=b100=brk=0\n",
    "    for i in x:\n",
    "        if brk==0:\n",
    "            if i==25:\n",
    "                b25+=1\n",
    "            elif i==50:\n",
    "                if b25>=1:\n",
    "                    b25-=1\n",
    "                    b50+=1\n",
    "                else:\n",
    "                    brk=1\n",
    "            else:\n",
    "                if b25>=1 and b50>=1:\n",
    "                    b100+=1\n",
    "                    b25-=1\n",
    "                    b50-=1\n",
    "                elif b25>=3:\n",
    "                    b25-=3\n",
    "                    b100+=1\n",
    "                else:\n",
    "                    brk=1\n",
    "    if brk==0:\n",
    "        return(\"YES\")\n",
    "    else:\n",
    "        return(\"NO\")\n",
    "tickets([25, 25, 50, 50, 100])"
   ]
  },
  {
   "cell_type": "code",
   "execution_count": 13,
   "metadata": {},
   "outputs": [
    {
     "name": "stdout",
     "output_type": "stream",
     "text": [
      "!ti,ekam,t'noW\n"
     ]
    }
   ],
   "source": [
    "#SET 4 EXC.5\n",
    "\n",
    "def reverse(x):\n",
    "    x=list(x)\n",
    "    x=x[::-1]\n",
    "    x=\"\".join(x)\n",
    "    print(x) \n",
    "reverse(\"Won't,make,it!\")"
   ]
  },
  {
   "cell_type": "code",
   "execution_count": 4,
   "metadata": {},
   "outputs": [],
   "source": [
    "#SET 4 EXC.6\n",
    "\n",
    "def persistence(x):\n",
    "    cnt=1\n",
    "    per=0\n",
    "    while x>9:\n",
    "        for i in range(len(str(x))):\n",
    "            cnt*=int(str(x)[i])\n",
    "        x=cnt\n",
    "        cnt=1\n",
    "        per+=1\n",
    "    return(per)"
   ]
  },
  {
   "cell_type": "code",
   "execution_count": 10,
   "metadata": {},
   "outputs": [
    {
     "data": {
      "text/plain": [
       "62.5"
      ]
     },
     "execution_count": 10,
     "metadata": {},
     "output_type": "execute_result"
    }
   ],
   "source": [
    "#SET 4 EXC.7\n",
    "\n",
    "def calculate_optimal_fare(dx,dt,vt,prc,vw):\n",
    "    vt=vt/60\n",
    "    vw=vw/60\n",
    "    if dx<=vw*dt:\n",
    "        return\"Free!\"\n",
    "    if dx>vt*dt:\n",
    "        return \"Won't make it!\" \n",
    "    fare=(prc*vt*(dx-vw*dt)/(vt-vw))\n",
    "    return(fare)\n",
    "calculate_optimal_fare(10, 50, 30, 10, 6)"
   ]
  }
 ],
 "metadata": {
  "interpreter": {
   "hash": "d4ca260931255454fde840190d1592bc9540e5d22da7c62476b4271349462b5e"
  },
  "kernelspec": {
   "display_name": "Python 3.9.7 ('base')",
   "language": "python",
   "name": "python3"
  },
  "language_info": {
   "codemirror_mode": {
    "name": "ipython",
    "version": 3
   },
   "file_extension": ".py",
   "mimetype": "text/x-python",
   "name": "python",
   "nbconvert_exporter": "python",
   "pygments_lexer": "ipython3",
   "version": "3.9.7"
  },
  "orig_nbformat": 4
 },
 "nbformat": 4,
 "nbformat_minor": 2
}
