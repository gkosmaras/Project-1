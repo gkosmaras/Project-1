{
 "cells": [
  {
   "cell_type": "code",
   "execution_count": null,
   "metadata": {},
   "outputs": [],
   "source": [
    "#SET 3 EXC.1\n",
    "\n",
    "def longest(strarr, k):\n",
    "    if (len(strarr) == 0 or k > len(strarr) or k <= 0):\n",
    "        return \"\"\n",
    "    else:\n",
    "        arr = list(map(len,strarr))\n",
    "        suma = 0\n",
    "        n = k\n",
    "        max = sum(arr[0:k])        \n",
    "        for idx, val in enumerate(arr):\n",
    "            if sum(arr[idx:k]) > max:\n",
    "                suma = idx\n",
    "                max = sum(arr[idx:k])\n",
    "            if idx >= len(arr) - n:\n",
    "                break        \n",
    "            k = k + 1\n",
    "        return ''.join(strarr[suma:suma+n])"
   ]
  },
  {
   "cell_type": "code",
   "execution_count": 5,
   "metadata": {},
   "outputs": [],
   "source": [
    "#SET 3 EXC.2\n",
    "from collections import Counter\n",
    "def delete_nth(lst,N):\n",
    "    unique=[]\n",
    "    occ=[]\n",
    "    count=Counter(lst)\n",
    "    for i in count:\n",
    "        unique.append(i)\n",
    "        occ.append(count[i])\n",
    "    lst.reverse()\n",
    "    for i in range(len(unique)):\n",
    "        times=occ[i]-N\n",
    "        if times>0:\n",
    "            for j in range(times):\n",
    "                lst.remove(lst[i])\n",
    "    lst.reverse()\n",
    "    print(lst)\n"
   ]
  },
  {
   "cell_type": "code",
   "execution_count": null,
   "metadata": {},
   "outputs": [],
   "source": [
    "#SET 3 EXC.3\n",
    "\n",
    "abc=[\"a\",\"b\",\"c\",\"d\",\"e\",\"f\",\"g\",\"h\",\"i\",\"j\",\"k\",\"l\",\"m\",\"n\",\"o\",\"p\",\"q\",\"r\",\"s\",\"t\",\"u\",\"v\",\"w\",\"x\",\"y\",\"z\"]\n",
    "str=\"Sphinx of black quartz, judge my vow!\"\n",
    "str=str.lower()\n",
    "str=list(str)\n",
    "ans=[]\n",
    "for i in str:\n",
    "    if i.isalpha():\n",
    "        for x in abc:\n",
    "            if i==x:\n",
    "                ans.append((abc.index(x)+1))\n",
    "    else:\n",
    "        pass\n",
    "print(ans)"
   ]
  },
  {
   "cell_type": "code",
   "execution_count": null,
   "metadata": {},
   "outputs": [],
   "source": [
    "#SET 3 EXC.4\n",
    "\n",
    "def iq_test(x):\n",
    "    x=x.split()\n",
    "    x=(list(map(int, list(x))))\n",
    "    ans=i=0\n",
    "    count_odd=count_even=0\n",
    "    while count_odd<2 and count_even<2:\n",
    "        if (x[i]%2)==0:\n",
    "            count_even+=1\n",
    "        else:\n",
    "            count_odd+=1\n",
    "    i=0\n",
    "    if count_even==2:\n",
    "        while ans==0:\n",
    "            if (x[i]%2)!=0:\n",
    "                ans=i+1\n",
    "            i+=1\n",
    "    else:\n",
    "        while ans==0:\n",
    "            if (x[i]%2)==0:\n",
    "                ans=i+1\n",
    "            i+=1\n",
    "    print(ans)\n",
    "iq_test(\"1 3 5 6 7 11\")\n"
   ]
  },
  {
   "cell_type": "code",
   "execution_count": 2,
   "metadata": {},
   "outputs": [
    {
     "data": {
      "text/plain": [
       "False"
      ]
     },
     "execution_count": 2,
     "metadata": {},
     "output_type": "execute_result"
    }
   ],
   "source": [
    "#SET 3 EXC.5\n",
    "\n",
    "from collections import Counter\n",
    "\n",
    "def scramble(str1,str2):\n",
    "    return len(Counter(str2) - Counter(str1))==0\n",
    "\n",
    "scramble(\"edewaraaossoqqyt\",\"codewars\")"
   ]
  },
  {
   "cell_type": "code",
   "execution_count": 4,
   "metadata": {},
   "outputs": [
    {
     "name": "stdout",
     "output_type": "stream",
     "text": [
      "7\n"
     ]
    }
   ],
   "source": [
    "#SET 3 EXC.6\n",
    "\n",
    "def max_sequence(list):\n",
    "    ans=suma=0\n",
    "    for i in list:\n",
    "        suma=max(0,(suma+i))\n",
    "        ans=max(ans,suma)\n",
    "    print(ans)\n",
    "\n",
    "max_sequence([-2, -5, 6, -2, -3, 1, 5, -6])\n"
   ]
  }
 ],
 "metadata": {
  "interpreter": {
   "hash": "d4ca260931255454fde840190d1592bc9540e5d22da7c62476b4271349462b5e"
  },
  "kernelspec": {
   "display_name": "Python 3.9.7 ('base')",
   "language": "python",
   "name": "python3"
  },
  "language_info": {
   "codemirror_mode": {
    "name": "ipython",
    "version": 3
   },
   "file_extension": ".py",
   "mimetype": "text/x-python",
   "name": "python",
   "nbconvert_exporter": "python",
   "pygments_lexer": "ipython3",
   "version": "3.9.7"
  },
  "orig_nbformat": 4
 },
 "nbformat": 4,
 "nbformat_minor": 2
}
