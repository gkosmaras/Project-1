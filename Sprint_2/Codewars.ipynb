{
 "cells": [
  {
   "cell_type": "code",
   "execution_count": null,
   "metadata": {},
   "outputs": [],
   "source": [
    "#CODEWARS - Remove vowels except \"Y\"\n",
    "\n",
    "def disemvowel(string):\n",
    "    vowels=[\"a\",\"e\",\"i\",\"o\",\"u\",\"A\",\"E\",\"I\",\"O\",\"U\"]\n",
    "    string=list(string)\n",
    "    y=[]\n",
    "    for i in string:\n",
    "        if i not in vowels:\n",
    "            y.append(i)\n",
    "    string=\"\".join(y)\n",
    "    return string\n",
    "disemvowel(\"Sphinx of black quartz, judge my vow!\")\n"
   ]
  },
  {
   "cell_type": "code",
   "execution_count": null,
   "metadata": {},
   "outputs": [],
   "source": [
    "#BETTER SOLUTION\n",
    "\n",
    "def disemvowel1(string):\n",
    "    for i in \"aeiouAEIOU\":\n",
    "        string=string.replace(i,\"\")\n",
    "    return string\n",
    "disemvowel1(\"Sphinx of black quartz, judge my vow!\")"
   ]
  },
  {
   "cell_type": "code",
   "execution_count": null,
   "metadata": {},
   "outputs": [],
   "source": [
    "#CODEWARS - Replace letters with \"(\" if they appear once, \")\" if more than once\n",
    "\n",
    "from collections import Counter\n",
    "def duplicate_encode(x):\n",
    "    x=x.lower()\n",
    "    cnt=Counter(x)\n",
    "    n=[]\n",
    "    for i in x:\n",
    "        if cnt[i]>1:\n",
    "            n.append(\")\")\n",
    "        else:\n",
    "            n.append(\"(\")\n",
    "    x=\"\".join(n)\n",
    "    return x   \n",
    "duplicate_encode(\"G OBpGlDdZBEpGhVinLDg@J bfz((mvhLZh S\")"
   ]
  },
  {
   "cell_type": "code",
   "execution_count": null,
   "metadata": {},
   "outputs": [],
   "source": [
    "#BETTER SOLUTION\n",
    "\n",
    "from collections import Counter\n",
    "\n",
    "def duplicate_encode(word):\n",
    "    word = word.lower()\n",
    "    counter = Counter(word)\n",
    "    return ''.join(('(' if counter[c] == 1 else ')') for c in word)"
   ]
  },
  {
   "cell_type": "code",
   "execution_count": null,
   "metadata": {},
   "outputs": [],
   "source": [
    "#CODEAWARS - Complementing DNA strands\n",
    "\n",
    "def dna(dna):\n",
    "    dna=list(dna)\n",
    "    for i in range(len(dna)):\n",
    "        if dna[i]==\"A\":\n",
    "            dna[i]=\"T\"\n",
    "        elif dna[i]==\"T\":\n",
    "            dna[i]=\"A\"\n",
    "        elif dna[i]==\"G\":\n",
    "            dna[i]=\"C\"\n",
    "        elif dna[i]==\"C\":\n",
    "            dna[i]=\"G\"\n",
    "    return \"\".join(dna)"
   ]
  },
  {
   "cell_type": "code",
   "execution_count": null,
   "metadata": {},
   "outputs": [],
   "source": [
    "#BETTER SOLUTION\n",
    "\n",
    "pairs = {'A':'T','T':'A','C':'G','G':'C'}\n",
    "def DNA_strand(dna):\n",
    "    return ''.join([pairs[x] for x in dna])"
   ]
  },
  {
   "cell_type": "code",
   "execution_count": null,
   "metadata": {},
   "outputs": [],
   "source": [
    "#CODEWARS - Sum of multiples of 3 and 5 \n",
    "\n",
    "def solution(number):\n",
    "    sum=0\n",
    "    for i in range(number):\n",
    "        if (i%3)==0 or (i%5)==0:\n",
    "            sum+=i\n",
    "    return sum\n",
    "solution(10)\n",
    "    "
   ]
  },
  {
   "cell_type": "code",
   "execution_count": 29,
   "metadata": {},
   "outputs": [
    {
     "data": {
      "text/plain": [
       "'13 is prime'"
      ]
     },
     "execution_count": 29,
     "metadata": {},
     "output_type": "execute_result"
    }
   ],
   "source": [
    "#CODEWARS - Find the divisors\n",
    "\n",
    "def divisors(n):\n",
    "    sol=[]\n",
    "    for i in range(2,n):\n",
    "        if (n%i)==0: \n",
    "            sol.append(i)\n",
    "    if sol==[]: \n",
    "        return str(n) + \" is prime\" \n",
    "    else: return sol\n",
    "divisors(13)"
   ]
  },
  {
   "cell_type": "code",
   "execution_count": 32,
   "metadata": {},
   "outputs": [
    {
     "data": {
      "text/plain": [
       "'13 is prime'"
      ]
     },
     "execution_count": 32,
     "metadata": {},
     "output_type": "execute_result"
    }
   ],
   "source": [
    "#BETTER SOLUTION\n",
    "\n",
    "def divisors(n):\n",
    "    sol=[i for i in range(2,n) if n%i==0]\n",
    "    if len(sol)==0: \n",
    "        return str(n)+\" is prime\"\n",
    "    return sol\n",
    "divisors(13)\n"
   ]
  },
  {
   "cell_type": "code",
   "execution_count": null,
   "metadata": {},
   "outputs": [],
   "source": [
    "#CODEWARS - Fine occurences of characters after \"m\"\n",
    "\n",
    "def printer_error(s):\n",
    "    error=0\n",
    "    corr=[\"a\",\"b\",\"c\",\"d\",\"e\",\"f\",\"g\",\"h\",\"i\",\"j\",\"k\",\"l\",\"m\"]\n",
    "    for i in s:\n",
    "        if i in corr:\n",
    "            pass\n",
    "        else:\n",
    "            error+=1\n",
    "    return \"\".join([str(error),\"/\",str(len(s))])\n",
    "printer_error(\"aaaxbbbbyyhwawiwjjjwwm\")"
   ]
  },
  {
   "cell_type": "code",
   "execution_count": null,
   "metadata": {},
   "outputs": [],
   "source": [
    "#BETTER SOLUTION\n",
    "\n",
    "from re import sub\n",
    "def printer_error(s):\n",
    "    return \"{}/{}\".format(len(sub(\"[a-m]\",'',s)),len(s))"
   ]
  },
  {
   "cell_type": "code",
   "execution_count": null,
   "metadata": {},
   "outputs": [],
   "source": [
    "#CODEWARS - Check if a,b,c can be triangle sides\n",
    "\n",
    "def is_triangle(a,b,c):\n",
    "    if a>0 and b>0 and c>0:\n",
    "        s=(a+b+c)/2\n",
    "        t=(s*(s-a)*(s-b)*(s-c))\n",
    "        return t>0\n",
    "    else:\n",
    "        return False\n",
    "is_triangle(1,2,2)"
   ]
  },
  {
   "cell_type": "code",
   "execution_count": null,
   "metadata": {},
   "outputs": [],
   "source": [
    "#BETTER SOLUTION\n",
    "\n",
    "def is_triangle(a, b, c):\n",
    "    return (a<b+c) and (b<a+c) and (c<a+b)\n",
    "is_triangle(7,2,2)"
   ]
  },
  {
   "cell_type": "code",
   "execution_count": 6,
   "metadata": {},
   "outputs": [
    {
     "data": {
      "text/plain": [
       "'MCMXCIX'"
      ]
     },
     "execution_count": 6,
     "metadata": {},
     "output_type": "execute_result"
    }
   ],
   "source": [
    "#CODEWARS - Convert numbers to Roman numerals\n",
    "\n",
    "def solution(n):\n",
    "    m = [\"\", \"M\", \"MM\", \"MMM\"]\n",
    "    c = [\"\", \"C\", \"CC\", \"CCC\", \"CD\", \"D\",\"DC\", \"DCC\", \"DCCC\", \"CM\"]\n",
    "    x = [\"\", \"X\", \"XX\", \"XXX\", \"XL\", \"L\",\"LX\", \"LXX\", \"LXXX\", \"XC\"]\n",
    "    i = [\"\", \"I\", \"II\", \"III\", \"IV\", \"V\",\"VI\", \"VII\", \"VIII\", \"IX\"]\n",
    "    ths=m[n//1000]\n",
    "    hun=c[(n%1000)//100]\n",
    "    ten=x[(n%100)//10]\n",
    "    dig=i[(n%10)]\n",
    "    return ths+hun+ten+dig\n"
   ]
  },
  {
   "cell_type": "code",
   "execution_count": 22,
   "metadata": {},
   "outputs": [],
   "source": [
    "#CODEWARS - Connect words, with capitalized first letter, and # at the front\n",
    "\n",
    "def generate_hashtag(s):\n",
    "    if len(s)<139:\n",
    "        s=s.split()\n",
    "        for i in range(len(s)):\n",
    "            s[i]=s[i].capitalize()\n",
    "        s.insert(0,\"#\")\n",
    "        s=(\"\".join(s))\n",
    "        return s\n",
    "    elif len(s)<=1:\n",
    "        return False"
   ]
  },
  {
   "cell_type": "code",
   "execution_count": 21,
   "metadata": {},
   "outputs": [],
   "source": [
    "#BETTER SOLUTION\n",
    "\n",
    "def generate_hashtag(s):\n",
    "    output = \"#\"\n",
    "    \n",
    "    for word in s.split():\n",
    "        output += word.capitalize()\n",
    "    \n",
    "    return False if (len(s) == 0 or len(output) > 140) else output"
   ]
  }
 ],
 "metadata": {
  "interpreter": {
   "hash": "d4ca260931255454fde840190d1592bc9540e5d22da7c62476b4271349462b5e"
  },
  "kernelspec": {
   "display_name": "Python 3.9.7 ('base')",
   "language": "python",
   "name": "python3"
  },
  "language_info": {
   "codemirror_mode": {
    "name": "ipython",
    "version": 3
   },
   "file_extension": ".py",
   "mimetype": "text/x-python",
   "name": "python",
   "nbconvert_exporter": "python",
   "pygments_lexer": "ipython3",
   "version": "3.9.7"
  },
  "orig_nbformat": 4
 },
 "nbformat": 4,
 "nbformat_minor": 2
}
