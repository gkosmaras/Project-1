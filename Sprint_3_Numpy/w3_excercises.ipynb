{
 "cells": [
  {
   "cell_type": "code",
   "execution_count": null,
   "metadata": {},
   "outputs": [],
   "source": [
    "import numpy as np"
   ]
  },
  {
   "cell_type": "code",
   "execution_count": null,
   "metadata": {},
   "outputs": [],
   "source": [
    "#Standard deviation calculator\n",
    "\n",
    "a=np.array([25,25,25,40,40,35,50,50,50,50])\n",
    "a_mean=a.mean()\n",
    "a_variance=(sum((a-a_mean)**2))/(len(a))\n",
    "std_deviation=a_variance**(1/2)"
   ]
  },
  {
   "cell_type": "code",
   "execution_count": null,
   "metadata": {},
   "outputs": [],
   "source": [
    "a=np.ones(5)\n",
    "print(a)"
   ]
  },
  {
   "cell_type": "code",
   "execution_count": null,
   "metadata": {},
   "outputs": [],
   "source": [
    "#Turn a list to an one-dimensional array\n",
    "list=[12.23, 13.32, 100, 36.32]\n",
    "arr=np.array(list)\n",
    "print(arr)"
   ]
  },
  {
   "cell_type": "code",
   "execution_count": null,
   "metadata": {},
   "outputs": [],
   "source": [
    "#Create a 3x3 matrix with integers from 2 to 10\n",
    "arr=np.arange(2,11).reshape(3,3)\n",
    "print(arr)"
   ]
  },
  {
   "cell_type": "code",
   "execution_count": null,
   "metadata": {},
   "outputs": [],
   "source": [
    "#Create a size 10 null vector and change a value\n",
    "arr=np.zeros(10)\n",
    "arr[6]=11\n",
    "print(arr)"
   ]
  },
  {
   "cell_type": "code",
   "execution_count": null,
   "metadata": {},
   "outputs": [],
   "source": [
    "#Create an array with values from 12 to 38\n",
    "arr=np.arange(12,38)\n",
    "print(arr)"
   ]
  },
  {
   "cell_type": "code",
   "execution_count": null,
   "metadata": {},
   "outputs": [],
   "source": [
    "#Reverse an array\n",
    "arr=np.arange(12,38)\n",
    "arr=arr[::-1]\n",
    "print(arr)\n"
   ]
  },
  {
   "cell_type": "code",
   "execution_count": null,
   "metadata": {},
   "outputs": [],
   "source": [
    "#Convert array to float type\n",
    "arr=np.array([1,2,3,4])\n",
    "#arr=arr.astype(np.float64) #Turns array into type in the parantheses\n",
    "arr=np.asfarray(arr) #Turns array into floats\n",
    "print(arr)\n"
   ]
  },
  {
   "cell_type": "code",
   "execution_count": null,
   "metadata": {},
   "outputs": [],
   "source": [
    "#Create a 5x5 with 1 on the border and 0 inside\n",
    "arr=np.ones((5,5))\n",
    "arr[1:-1,1:-1]=0\n",
    "print(arr)"
   ]
  },
  {
   "cell_type": "code",
   "execution_count": null,
   "metadata": {},
   "outputs": [],
   "source": [
    "#Surround an existing array with zeroes (0)\n",
    "arr=np.ones((3,3))\n",
    "arr=np.pad(arr,1,mode=\"constant\",constant_values=0)\n",
    "print(arr)"
   ]
  },
  {
   "cell_type": "code",
   "execution_count": null,
   "metadata": {},
   "outputs": [],
   "source": [
    "#Create an 8x8 checkerboard matrix\n",
    "arr=np.ones((8,8))\n",
    "arr[1::2,::2]=0\n",
    "arr[::2,1::2]=0\n",
    "print(arr)\n"
   ]
  },
  {
   "cell_type": "code",
   "execution_count": null,
   "metadata": {},
   "outputs": [],
   "source": [
    "#Convert lists and tuples to arrays\n",
    "list=[1,2,3,4,5,6,7,8]\n",
    "tupl=([8,4,6],[1,2,3])\n",
    "arr_list=np.asarray(list)\n",
    "arr_tupl=np.asarray(tupl)\n",
    "print(arr_list,arr_tupl)"
   ]
  },
  {
   "cell_type": "code",
   "execution_count": null,
   "metadata": {},
   "outputs": [],
   "source": [
    "#Append values to the end of array\n",
    "arr=np.array([10,20,30])\n",
    "arr=np.append(arr,[40,60,70,80,90])\n",
    "print(arr)"
   ]
  },
  {
   "cell_type": "code",
   "execution_count": null,
   "metadata": {},
   "outputs": [],
   "source": [
    "#Create an empty and a full array\n",
    "arr_empty=np.empty((3,4))\n",
    "print(arr_empty)\n",
    "arr_full=np.full((3,4),8)\n",
    "print(arr_full)\n"
   ]
  },
  {
   "cell_type": "code",
   "execution_count": null,
   "metadata": {},
   "outputs": [],
   "source": [
    "#Convert Celsius to Fahrenheit and vice versa\n",
    "fahr_list=[0, 12, 45.21, 34, 99.91, 32]\n",
    "fahr=np.array(fahr_list)\n",
    "fahr_conv=np.round(((fahr-32)*0.5556),2)\n",
    "print(fahr_conv)\n",
    "cels_list=[-17.78, -11.11, 7.34, 1.11, 37.73, 0.]\n",
    "cels=np.array(cels_list)\n",
    "cels_conv=np.round(((cels*1.8)+32),2)\n",
    "print(cels_conv)\n"
   ]
  },
  {
   "cell_type": "code",
   "execution_count": null,
   "metadata": {},
   "outputs": [],
   "source": [
    "#Find real and imaginary parts of complex numbers (Example in question, randomized array of size 5)\n",
    "arr=np.random.random(5)+np.random.random(5)*1j\n",
    "print(arr)\n",
    "print(arr.real)\n",
    "print(arr.imag)\n"
   ]
  },
  {
   "cell_type": "code",
   "execution_count": null,
   "metadata": {},
   "outputs": [],
   "source": [
    "#Find number of elements of an array, length of an element in bytes and total byte consumption\n",
    "arr=np.random.random(5)\n",
    "print(arr.size) #Array size\n",
    "print(arr.itemsize) #Element size\n",
    "print(arr.nbytes) #Byte consumption\n"
   ]
  },
  {
   "cell_type": "code",
   "execution_count": null,
   "metadata": {},
   "outputs": [],
   "source": [
    "#Check if elements in 1-D array are present in second array\n",
    "arr1=([0,10,20,40,60])\n",
    "arr2=([0,40])\n",
    "print(np.in1d(arr1,arr2))"
   ]
  },
  {
   "cell_type": "code",
   "execution_count": null,
   "metadata": {},
   "outputs": [],
   "source": [
    "#Find common values between two arrays\n",
    "arr1=([0,10,20,40,60])\n",
    "arr2=([10,30,40])\n",
    "print(np.intersect1d(arr1,arr2))\n"
   ]
  },
  {
   "cell_type": "code",
   "execution_count": null,
   "metadata": {},
   "outputs": [],
   "source": [
    "#Get unique items from an array\n",
    "arr=np.array([1,1,2,3,3,4,5,7,7,8])\n",
    "arr_un=np.unique(arr)\n",
    "print(arr_un)\n"
   ]
  },
  {
   "cell_type": "code",
   "execution_count": null,
   "metadata": {},
   "outputs": [],
   "source": [
    "#Find set differences and return the sorted, unique values\n",
    "arr1=np.array([0,10,20,40,60,80])\n",
    "arr2=np.array([10,30,40,50,70,90])\n",
    "print(np.setdiff1d(arr1,arr2))\n"
   ]
  },
  {
   "cell_type": "code",
   "execution_count": null,
   "metadata": {},
   "outputs": [],
   "source": [
    "#Find the set exclusive and return the sorted, unique values that are only in one array\n",
    "arr1=np.array([0,10,20,40,60,80])\n",
    "arr2=np.array([10,30,40,50,70])\n",
    "print(np.setxor1d(arr1,arr2))\n"
   ]
  },
  {
   "cell_type": "code",
   "execution_count": null,
   "metadata": {},
   "outputs": [],
   "source": [
    "#Find the union of two arrays, and return the sorted, unique values that are in either array\n",
    "arr1=np.array([0,10,20,40,60,80])\n",
    "arr2=np.array([10,30,40,50,70])\n",
    "print(np.union1d(arr1,arr2))"
   ]
  },
  {
   "cell_type": "code",
   "execution_count": null,
   "metadata": {},
   "outputs": [],
   "source": [
    "#Check if all elements are True\n",
    "arr=np.array([1,2,3,4,1])\n",
    "np.all(arr)\n"
   ]
  },
  {
   "cell_type": "code",
   "execution_count": null,
   "metadata": {},
   "outputs": [],
   "source": [
    "#Check if any element in an axis is True\n",
    "arr=np.array([0,0,0,1,0])\n",
    "np.any(arr)"
   ]
  },
  {
   "cell_type": "code",
   "execution_count": null,
   "metadata": {},
   "outputs": [],
   "source": [
    "#Repeat elements in an array\n",
    "arr=np.array([1,2,3,4])"
   ]
  }
 ],
 "metadata": {
  "interpreter": {
   "hash": "d4ca260931255454fde840190d1592bc9540e5d22da7c62476b4271349462b5e"
  },
  "kernelspec": {
   "display_name": "Python 3.9.7 ('base')",
   "language": "python",
   "name": "python3"
  },
  "language_info": {
   "codemirror_mode": {
    "name": "ipython",
    "version": 3
   },
   "file_extension": ".py",
   "mimetype": "text/x-python",
   "name": "python",
   "nbconvert_exporter": "python",
   "pygments_lexer": "ipython3",
   "version": "3.9.7"
  },
  "orig_nbformat": 4
 },
 "nbformat": 4,
 "nbformat_minor": 2
}
