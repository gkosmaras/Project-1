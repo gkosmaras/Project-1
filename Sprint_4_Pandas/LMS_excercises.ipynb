{
 "cells": [
  {
   "cell_type": "code",
   "execution_count": null,
   "metadata": {},
   "outputs": [],
   "source": [
    "import numpy as np\n",
    "import pandas as pd\n",
    "import matplotlib.pyplot as plt\n",
    "import seaborn as sns\n",
    "\n",
    "df=pd.read_csv(\"movies_2.csv\")\n",
    "df_orig=df\n",
    "df=df.drop(\"Summary\",axis=1)"
   ]
  },
  {
   "cell_type": "code",
   "execution_count": null,
   "metadata": {},
   "outputs": [],
   "source": [
    "df[\"Title\"].value_counts()\n",
    "#There are some duplicate values\n",
    "df=df.drop_duplicates(subset=\"Title\",keep=\"first\")\n",
    "df.dropna(subset=[\"Title\"],inplace=True)\n",
    "#Dropped the rows with missing Title value"
   ]
  },
  {
   "cell_type": "code",
   "execution_count": null,
   "metadata": {},
   "outputs": [],
   "source": [
    "#Standarizing the values' format\n",
    "df.columns=df.columns.str.replace(\" \",\"_\")\n",
    "df[\"Title\"]=(df[\"Title\"].str.replace(\" \",\"_\").str.lower()).astype(\"string\")\n",
    "df[\"Release_Date\"]=pd.to_datetime(df[\"Release_Date\"])\n",
    "df[\"Genre\"]=(df[\"Genre\"].str.lower()).astype(\"string\")\n",
    "df[\"MPAA_Rating\"]=(df[\"MPAA_Rating\"].str.upper()).astype(\"string\")\n",
    "#Replacing NaN values with the average\n",
    "df[\"Rating\"].fillna(value=df[\"Rating\"].median(),inplace=True)\n",
    "df[\"Rating_Count\"].fillna(value=df[\"Rating_Count\"].median(),inplace=True)\n",
    "#Better replace the missing rating with the mode, results in a more distributed values"
   ]
  },
  {
   "cell_type": "code",
   "execution_count": 129,
   "metadata": {},
   "outputs": [
    {
     "data": {
      "text/plain": [
       "<function matplotlib.pyplot.tight_layout(*, pad=1.08, h_pad=None, w_pad=None, rect=None)>"
      ]
     },
     "execution_count": 129,
     "metadata": {},
     "output_type": "execute_result"
    },
    {
     "data": {
      "image/png": "[encoded data removed]",
      "text/plain": [
       "<Figure size 432x288 with 2 Axes>"
      ]
     },
     "metadata": {
      "needs_background": "light"
     },
     "output_type": "display_data"
    }
   ],
   "source": [
    "fig, axes=plt.subplots(nrows=1,ncols=2)\n",
    "df[\"Rating\"].plot.hist(bins=100,ax=axes[0])\n",
    "df_orig[\"Rating\"].plot.hist(bins=100,ax=axes[1])\n",
    "plt.tight_layout"
   ]
  },
  {
   "cell_type": "code",
   "execution_count": null,
   "metadata": {},
   "outputs": [],
   "source": [
    "temp=df.loc[(df[\"Rating\"]>7)&(df[\"Gross\"]>5e7)]\n",
    "rat_gross=temp[\"Title\"]\n",
    "\n",
    "temp=df.loc[(df[\"Rating\"]>7)&(df[\"Gross\"]>5e7)&(df[\"MPAA_Rating\"]==\"PG\")]\n",
    "rat_gross_par=temp[\"Title\"]\n",
    "\n",
    "good_anim=(df.loc[(df[\"Genre\"]==\"animation\")&(df[\"Rating\"]>7)]).shape[0]\n",
    "\n",
    "temp=(df.sort_values(by=\"Budget\",axis=0,ascending=False)).head(5)\n",
    "budget5=temp[\"Title\"]\n",
    "\n",
    "temp=(df.loc[(df[\"Genre\"]==\"comedy\")]).sort_values(by=\"Rating\",axis=0,ascending=False).head(5)\n",
    "comedy5=temp[\"Title\"]\n",
    "\n",
    "rating5=((df.sort_values(by=\"Rating\",axis=0,ascending=False))[\"Title\"]).head(5)\n",
    "\n",
    "temp=((df.loc[(df[\"Genre\"]==\"romance\")&(df[\"Release_Date\"]>\"1999-12-31\")]).sort_values(by=\"Gross\",axis=0,ascending=False)).head(3)\n",
    "rom_gross=temp[\"Title\"]\n",
    "\n",
    "genres=df[\"Genre\"].value_counts().shape\n",
    "\n",
    "temp=((df.loc[(df[\"Release_Date\"]>\"1999-12-31\")]).sort_values(by=\"Budget\",axis=0,ascending=False)).head(5)\n",
    "recent_budget5=temp[\"Title\"]\n",
    "\n",
    "temp=df.value_counts(\"MPAA_Rating\",normalize=True).iloc[[0,-1]]\n",
    "most_least_mpaa=list(temp.index)\n",
    "\n",
    "temp=(df.groupby([\"Genre\"]).mean()).sort_values(by=\"Budget\",axis=0,ascending=False).iloc[[0,-1]]\n",
    "most_least_exp_genre=list(temp.index)\n",
    "\n",
    "temp=(df.groupby([\"Genre\"]).mean()).sort_values(by=\"Gross\",axis=0,ascending=False).head(1)\n",
    "fav_genre_gross=list(temp.index)\n",
    "\n",
    "temp=(df.groupby([\"Genre\"]).mean()).sort_values(by=\"Rating\",axis=0,ascending=False).head(1)\n",
    "fav_genre_rat=list(temp.index)"
   ]
  }
 ],
 "metadata": {
  "interpreter": {
   "hash": "d4ca260931255454fde840190d1592bc9540e5d22da7c62476b4271349462b5e"
  },
  "kernelspec": {
   "display_name": "Python 3.9.7 ('base')",
   "language": "python",
   "name": "python3"
  },
  "language_info": {
   "codemirror_mode": {
    "name": "ipython",
    "version": 3
   },
   "file_extension": ".py",
   "mimetype": "text/x-python",
   "name": "python",
   "nbconvert_exporter": "python",
   "pygments_lexer": "ipython3",
   "version": "3.9.7"
  },
  "orig_nbformat": 4
 },
 "nbformat": 4,
 "nbformat_minor": 2
}
