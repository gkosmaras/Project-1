{
 "cells": [
  {
   "cell_type": "code",
   "execution_count": null,
   "metadata": {},
   "outputs": [],
   "source": [
    "import pandas as pd\n",
    "df=pd.read_csv(\"WordsByCharacter.csv\")"
   ]
  },
  {
   "cell_type": "code",
   "execution_count": null,
   "metadata": {},
   "outputs": [],
   "source": [
    "multi=df.set_index([\"Film\",\"Chapter\",\"Race\",\"Character\"]).sort_index()\n",
    "#Create a new dataset, where we turn film, chapter, race and character columns into indices"
   ]
  },
  {
   "cell_type": "code",
   "execution_count": null,
   "metadata": {},
   "outputs": [],
   "source": [
    "multi.loc[(\"The Fellowship Of The Ring\",\"01: Prologue\"),:]\n",
    "#Returns the names of character who spoke on book 1, chapter 1"
   ]
  },
  {
   "cell_type": "code",
   "execution_count": null,
   "metadata": {},
   "outputs": [],
   "source": [
    "multi.loc[(\"The Fellowship Of The Ring\",slice(None),\"Elf\"),:].head(3)\n",
    "#Returns the names of the 3 elf who spoke first on book 1"
   ]
  },
  {
   "cell_type": "code",
   "execution_count": null,
   "metadata": {},
   "outputs": [],
   "source": [
    "multi.loc[(\"The Two Towers\",slice(None),slice(None),[\"Gandalf\",\"Saruman\"]),:]\n",
    "#Returns how much the Ainurs speak in book 2"
   ]
  },
  {
   "cell_type": "code",
   "execution_count": null,
   "metadata": {},
   "outputs": [],
   "source": [
    "multi.xs(\"Isildur\",level=\"Character\").sum()\n",
    "#Returns how much Isildur spoke in the trilogy"
   ]
  },
  {
   "cell_type": "code",
   "execution_count": null,
   "metadata": {},
   "outputs": [],
   "source": [
    "temp=df.pivot_table(index=[\"Race\",\"Character\"],columns=\"Film\",aggfunc=\"sum\",margins=True,margins_name=\"All Films\",fill_value=0).sort_index()\n",
    "#margins=True enables the built in total column of pivot_table. margins_name=\"\" sets the label.\n",
    "order=[(\"Words\",\"The Fellowship Of The Ring\"),(\"Words\",\"The Two Towers\"),(\"Words\",\"The Return Of The King\"),(\"Words\",\"All Films\")]\n",
    "temp=temp.sort_values(by=(\"Words\",\"All Films\"),ascending=False)\n",
    "temp=temp.reindex(order,axis=1)\n",
    "#Return a table with the sum of words spoken by each character, by book and in total\n",
    "temp.loc[\"Hobbit\"]\n",
    "#Return a table with the sum of words spoken by the Hobbits, by book and in total"
   ]
  }
 ],
 "metadata": {
  "interpreter": {
   "hash": "d4ca260931255454fde840190d1592bc9540e5d22da7c62476b4271349462b5e"
  },
  "kernelspec": {
   "display_name": "Python 3.9.7 ('base')",
   "language": "python",
   "name": "python3"
  },
  "language_info": {
   "codemirror_mode": {
    "name": "ipython",
    "version": 3
   },
   "file_extension": ".py",
   "mimetype": "text/x-python",
   "name": "python",
   "nbconvert_exporter": "python",
   "pygments_lexer": "ipython3",
   "version": "3.9.7"
  },
  "orig_nbformat": 4
 },
 "nbformat": 4,
 "nbformat_minor": 2
}
