{
 "cells": [
  {
   "cell_type": "code",
   "execution_count": null,
   "metadata": {},
   "outputs": [],
   "source": [
    "import pandas as pd\n",
    "import numpy as np"
   ]
  },
  {
   "cell_type": "code",
   "execution_count": null,
   "metadata": {},
   "outputs": [],
   "source": [
    "#2 Create series from list/array/dictionary\n",
    "list1 = list(\"abcedfghijklmnopqrstuvwxyz\")\n",
    "arr=np.arange(26)\n",
    "dict1=dict(zip(list1,arr))\n",
    "ser1=pd.Series(list1)\n",
    "ser2=pd.Series(arr)\n",
    "ser3=pd.Series(dict1)"
   ]
  },
  {
   "cell_type": "code",
   "execution_count": null,
   "metadata": {},
   "outputs": [],
   "source": [
    "#3 Convert a series to a dataframe with its index as a column\n",
    "list1 = list(\"abcedfghijklmnopqrstuvwxyz\")\n",
    "arr=np.arange(26)\n",
    "dict1=dict(zip(list1,arr))\n",
    "ser1=pd.Series(dict1)\n",
    "df=ser1.to_frame().reset_index()"
   ]
  },
  {
   "cell_type": "code",
   "execution_count": null,
   "metadata": {},
   "outputs": [],
   "source": [
    "#4 Combine two lists into a dataframe\n",
    "list1 = list(\"abcedfghijklmnopqrstuvwxyz\")\n",
    "arr=np.arange(26)\n",
    "ser1=pd.Series(list1)\n",
    "ser2=pd.Series(arr)\n",
    "df=pd.concat([ser1,ser2],axis=1)\n",
    "df=pd.DataFrame({\"col1\":ser1,\"col2\":ser2})"
   ]
  },
  {
   "cell_type": "code",
   "execution_count": null,
   "metadata": {},
   "outputs": [],
   "source": [
    "#5 Assign name to a series' index\n",
    "ser1=pd.Series(list(\"abcedfghijklmnopqrstuvwxyz\"))\n",
    "ser1.name=\"alphabet\""
   ]
  },
  {
   "cell_type": "code",
   "execution_count": null,
   "metadata": {},
   "outputs": [],
   "source": [
    "#6 Remove from ser1 elements present on ser2\n",
    "ser1 = pd.Series([1, 2, 3, 4, 5])\n",
    "ser2 = pd.Series([4, 5, 6, 7, 8])\n",
    "ser1=ser1[~ser1.isin(ser2)]"
   ]
  },
  {
   "cell_type": "code",
   "execution_count": null,
   "metadata": {},
   "outputs": [],
   "source": [
    "#7 Get unique items of ser1 and ser2\n",
    "ser1 = pd.Series([1, 2, 3, 4, 5])\n",
    "ser2 = pd.Series([4, 5, 6, 7, 8])\n",
    "seru=pd.Series(np.union1d(ser1,ser2))       #Returns series with unique elements of ser1, ser2\n",
    "seri=pd.Series(np.intersect1d(ser1,ser2))   #Returns series with common elements of ser1, ser2\n",
    "answer=seru[~seru.isin(seri)]"
   ]
  },
  {
   "cell_type": "code",
   "execution_count": null,
   "metadata": {},
   "outputs": [],
   "source": [
    "#8 Get the minimum, median, maximum, 25% and 75% of a series\n",
    "ser1=pd.Series(np.random.normal(10,5,25))\n",
    "answer=np.percentile(ser1,q=[0,25,50,75,100])"
   ]
  },
  {
   "cell_type": "code",
   "execution_count": null,
   "metadata": {},
   "outputs": [],
   "source": [
    "#9 Get frequency count of elements in series\n",
    "ser1=pd.Series(np.take(list('abcdefgh'),np.random.randint(8,size=30)))\n",
    "answer=ser1.value_counts(ascending=False)"
   ]
  },
  {
   "cell_type": "code",
   "execution_count": null,
   "metadata": {},
   "outputs": [],
   "source": [
    "#10 Return 2 most frequent values in series, replace all else with \"Other\"\n",
    "ser1=pd.Series(np.random.randint(1,5,[12]))\n",
    "print(ser1.value_counts().head(2))\n",
    "ser1[~ser1.isin(ser1.value_counts().index[:2])]=\"Other\""
   ]
  },
  {
   "cell_type": "code",
   "execution_count": null,
   "metadata": {},
   "outputs": [],
   "source": [
    "#11 Sort the series' values in bin based on decimal, and replace values with bin name\n",
    "ser1=pd.Series(np.random.random(20))\n",
    "pd.qcut(ser1,10,labels=[\"1st\",\"2nd\",\"3rd\",\"4th\",\"5th\",\"6th\",\"7th\",\"8th\",\"9th\",\"10th\"])"
   ]
  },
  {
   "cell_type": "code",
   "execution_count": null,
   "metadata": {},
   "outputs": [],
   "source": [
    "#12 Convert a series to a m x n matrix\n",
    "ser1=pd.Series(np.random.randint(1,10,35))\n",
    "df=pd.DataFrame(ser1.values.reshape(7,5))\n",
    "df"
   ]
  },
  {
   "cell_type": "code",
   "execution_count": null,
   "metadata": {},
   "outputs": [],
   "source": [
    "#13"
   ]
  },
  {
   "cell_type": "code",
   "execution_count": null,
   "metadata": {},
   "outputs": [],
   "source": [
    "#14 Extract items at given positions from list\n",
    "ser1=pd.Series(list(\"abcdefghijklmnopqrstuvwxyz\"))\n",
    "pos=[0,4,8,14,20]\n",
    "ser1.take(pos)"
   ]
  },
  {
   "cell_type": "code",
   "execution_count": null,
   "metadata": {},
   "outputs": [],
   "source": [
    "#15 Given two series, stack them and form a dataframe\n",
    "ser1=pd.Series(range(5))\n",
    "ser2=pd.Series(list(\"abcde\"))       #Stack them vertically\n",
    "df=pd.concat([ser1,ser2],axis=1)    #Stack them horizontally\n",
    "#ser1.append(ser2)\n",
    "df\n",
    "\n"
   ]
  },
  {
   "cell_type": "code",
   "execution_count": null,
   "metadata": {},
   "outputs": [],
   "source": [
    "#16 Find the indices of ser2 items in ser1\n",
    "ser1=pd.Series([10,9,6,5,3,1,12,8,13])\n",
    "ser2=pd.Series([1,3,10,13])\n",
    "[pd.Index(ser1).get_loc(i) for i in ser2]"
   ]
  },
  {
   "cell_type": "code",
   "execution_count": null,
   "metadata": {},
   "outputs": [],
   "source": [
    "#17 Calculate the mean squared error of two series\n",
    "truth=pd.Series(range(10))\n",
    "pred=pd.Series(range(10)+np.random.random(10))\n",
    "np.mean((truth-pred)**2)"
   ]
  },
  {
   "cell_type": "code",
   "execution_count": null,
   "metadata": {},
   "outputs": [],
   "source": [
    "#18 Capitalize the first character in each word\n",
    "ser1=pd.Series([\"how\",\"to\",\"kick\",\"ass?\"])\n",
    "ser1.str.capitalize()"
   ]
  },
  {
   "cell_type": "code",
   "execution_count": null,
   "metadata": {},
   "outputs": [],
   "source": [
    "#19 Count each words' characters\n",
    "ser1=pd.Series([\"how\",\"to\",\"kick\",\"ass?\"])\n",
    "ser1.str.len()"
   ]
  },
  {
   "cell_type": "code",
   "execution_count": null,
   "metadata": {},
   "outputs": [],
   "source": [
    "#20 Calculate difference of differences between consecutive numbers in series\n",
    "ser1=pd.Series([1,3,6,10,15,21,28,36])\n",
    "ser1.diff().diff().tolist()"
   ]
  },
  {
   "cell_type": "code",
   "execution_count": null,
   "metadata": {},
   "outputs": [],
   "source": [
    "#21 Convert date-strings to timeseries\n",
    "ser1=pd.Series([\"01 Jan 2010\",\"02-02-2011\",\"20120303\",\"2013/04/04\",\"2014-05-05\",\"2015-06-06T12:20\"])\n",
    "ser1=pd.to_datetime(ser1)"
   ]
  },
  {
   "cell_type": "code",
   "execution_count": null,
   "metadata": {},
   "outputs": [],
   "source": [
    "#22 Get day of month, week number, day of year and day of week from date string series\n",
    "ser1=pd.Series([\"01 Jan 2010\",\"02-02-2011\",\"20120303\",\"2013/04/04\",\"2014-05-05\",\"2015-06-06T12:20\"])\n",
    "ser1=pd.to_datetime(ser1)\n",
    "print(ser1.dt.day.tolist())\n",
    "print(ser1.dt.isocalendar().week.tolist())\n",
    "print(ser1.dt.dayofyear.tolist())\n",
    "print(ser1.dt.day_name().tolist())"
   ]
  },
  {
   "cell_type": "code",
   "execution_count": null,
   "metadata": {},
   "outputs": [],
   "source": [
    "#23 Convert year-month string to 04/mm/yyyy format\n",
    "ser1=pd.Series([\"Jan 2010\",\"Feb 2011\",\"Mar 2012\"])\n",
    "ser1=pd.to_datetime(ser1)\n",
    "diem=pd.Series([4]*3)\n",
    "anno=ser1.dt.year.astype(\"str\")\n",
    "mensis=ser1.dt.month.astype(\"str\")\n",
    "answer=pd.concat([anno,mensis],axis=1)\n",
    "answer[\"2\"]=diem"
   ]
  },
  {
   "cell_type": "code",
   "execution_count": null,
   "metadata": {},
   "outputs": [],
   "source": [
    "#24 Return words with at least 2 vowels\n",
    "from collections import Counter\n",
    "ser1=pd.Series([\"Apple\",\"Orange\",\"Plan\",\"Python\",\"Money\"])\n",
    "indx=ser1.map(lambda x: sum([Counter(x.lower()).get(i,0) for i in list(\"aeiouy\")])>=2)\n",
    "ser1[indx]"
   ]
  },
  {
   "cell_type": "code",
   "execution_count": null,
   "metadata": {},
   "outputs": [],
   "source": [
    "#25 Filter series based on list\n",
    "import re\n",
    "emails=pd.Series([\"buying books at amazom.com\",\"rameses@egypt.com\",\"matt@t.co\",\"narendra@modi.com\"])\n",
    "pattern=\"[A-Za-z0-9._%+-]+@[A-Za-z0-9.-]+\\\\.[A-Za-z]{2,4}\"\n",
    "emails.str.findall(pattern, flags=re.IGNORECASE)"
   ]
  },
  {
   "cell_type": "code",
   "execution_count": null,
   "metadata": {},
   "outputs": [],
   "source": [
    "#26 Find the mean of a group grouped by another group\n",
    "fruit=pd.Series(np.random.choice([\"apple\",\"banana\",\"carrot\"],10))\n",
    "weights=pd.Series(np.linspace(1,10,10))\n",
    "weights.groupby(fruit).mean()"
   ]
  },
  {
   "cell_type": "code",
   "execution_count": null,
   "metadata": {},
   "outputs": [],
   "source": [
    "#27 Calculate the euclidean distance between two series\n",
    "ser1=pd.Series(np.linspace(1,10,10))\n",
    "ser2=pd.Series(np.linspace(10,1,10))\n",
    "sum((ser1-ser2)**2)**0.5"
   ]
  },
  {
   "cell_type": "code",
   "execution_count": null,
   "metadata": {},
   "outputs": [],
   "source": [
    "#28 Find local maxima of a series\n",
    "ser1=pd.Series([2,10,3,4,9,10,2,7,3])\n",
    "dif=np.diff(np.sign(np.diff(ser1)))\n",
    "answer=np.where(dif== -2)[0]+1"
   ]
  },
  {
   "cell_type": "code",
   "execution_count": null,
   "metadata": {},
   "outputs": [],
   "source": [
    "#29 Replace missing spaces with the least frequent character\n",
    "test=\"dgg sdffsd llookkgge\"\n",
    "ser1=pd.Series(list(test))\n",
    "f=ser1.value_counts()\n",
    "lf=f.dropna().index[-1]\n",
    "\"\".join(ser1.replace(\" \",lf))"
   ]
  },
  {
   "cell_type": "code",
   "execution_count": null,
   "metadata": {},
   "outputs": [],
   "source": [
    "#30 Start a TimeSeries on 2000-01-01 and have random numbers as values each Saturday\n",
    "ser1=pd.Series(np.random.randint(1,10,10),pd.date_range(\"2000-01-01\",periods=10,freq=\"W-SAT\"))"
   ]
  },
  {
   "cell_type": "code",
   "execution_count": null,
   "metadata": {},
   "outputs": [],
   "source": [
    "#\n",
    "#31 In a TimeSeries, replace missing values with previous non-missing dates\n",
    "ser1=pd.Series([1,10,3,np.nan], index=pd.to_datetime(['2000-01-01', '2000-01-03', '2000-01-06', '2000-01-08']))\n",
    "print(ser1)\n",
    "ser1.resample(\"D\").ffill()"
   ]
  },
  {
   "cell_type": "code",
   "execution_count": null,
   "metadata": {},
   "outputs": [],
   "source": [
    "#32 Calculate the autocorrelation of a series\n",
    "ser1=pd.Series(np.arange(20)+np.random.normal(1,10,20))\n",
    "temp=[ser1.autocorr(i).round(2) for i in range(11)]\n",
    "print(np.argmax(np.abs(temp[1:]))+1)"
   ]
  },
  {
   "cell_type": "code",
   "execution_count": null,
   "metadata": {},
   "outputs": [],
   "source": [
    "#33 Import the Nth row for a csv file to create a dataframe\n",
    "df=pd.read_csv(\"https://raw.githubusercontent.com/selva86/datasets/master/BostonHousing.csv\",chunksize=50)\n",
    "df2=pd.DataFrame()\n",
    "df2=pd.concat([chunk.iloc[0] for chunk in df],axis=1)\n",
    "df2=df2.transpose"
   ]
  },
  {
   "cell_type": "code",
   "execution_count": null,
   "metadata": {},
   "outputs": [],
   "source": [
    "#34 Change column values when import from csv to dataframe\n",
    "df=pd.read_csv(\"https://raw.githubusercontent.com/selva86/datasets/master/BostonHousing.csv\",converters={\"medv\": lambda x: \"High\" if x > \"25\" else \"Low\"})"
   ]
  },
  {
   "cell_type": "code",
   "execution_count": null,
   "metadata": {},
   "outputs": [],
   "source": [
    "#35 "
   ]
  },
  {
   "cell_type": "code",
   "execution_count": null,
   "metadata": {},
   "outputs": [],
   "source": [
    "#36 Import specified columns from csv file\n",
    "df=pd.read_csv(\"https://raw.githubusercontent.com/selva86/datasets/master/BostonHousing.csv\", usecols=[\"crim\",\"medv\"])"
   ]
  },
  {
   "cell_type": "code",
   "execution_count": null,
   "metadata": {},
   "outputs": [],
   "source": [
    "#37 Get size, datatype and statistic stats of each collumn in a dataframe\n",
    "df=pd.read_csv(\"https://raw.githubusercontent.com/selva86/datasets/master/Cars93_miss.csv\")\n",
    "print(df.shape)                    #Get number of rows and columns\n",
    "print(df.dtypes)                   #Get datatypes\n",
    "print(df.value_counts())           #Get columns of each datatype\n",
    "print(df.dtypes.value_counts())    #Get numbers of each datatype\n",
    "stats=df.describe()                #Get statistics\n",
    "arr=df.values\n",
    "list1=df.values.tolist()"
   ]
  },
  {
   "cell_type": "code",
   "execution_count": null,
   "metadata": {},
   "outputs": [],
   "source": [
    "#38 Get index and label of a cell fitting the criteria\n",
    "df=pd.read_csv(\"https://raw.githubusercontent.com/selva86/datasets/master/Cars93_miss.csv\")\n",
    "df.loc[df.Price == np.max(df.Price),[\"Manufacturer\",\"Model\",\"Type\"]]\n",
    "r,c=np.where(df.values==np.max(df.Price))\n",
    "df.iloc[r[0],c[0]]"
   ]
  },
  {
   "cell_type": "code",
   "execution_count": null,
   "metadata": {},
   "outputs": [],
   "source": [
    "#39 Rename columns\n",
    "df = pd.read_csv('https://raw.githubusercontent.com/selva86/datasets/master/Cars93_miss.csv')\n",
    "df=df.rename(columns = {\"Type\":\"CarType\"})\n",
    "df.columns=df.columns.map(lambda x: x.replace(\".\",\"_\"))"
   ]
  },
  {
   "cell_type": "code",
   "execution_count": null,
   "metadata": {},
   "outputs": [],
   "source": [
    "#40 Check for any NaN values\n",
    "df = pd.read_csv('https://raw.githubusercontent.com/selva86/datasets/master/Cars93_miss.csv')\n",
    "a=df.isna().values.any()"
   ]
  },
  {
   "cell_type": "code",
   "execution_count": null,
   "metadata": {},
   "outputs": [],
   "source": [
    "#41 Count the NaN values in each column\n",
    "df = pd.read_csv('https://raw.githubusercontent.com/selva86/datasets/master/Cars93_miss.csv')\n",
    "answer=df.isna().sum()"
   ]
  },
  {
   "cell_type": "code",
   "execution_count": null,
   "metadata": {},
   "outputs": [],
   "source": [
    "#42 Replace NaN values with the median\n",
    "df = pd.read_csv('https://raw.githubusercontent.com/selva86/datasets/master/Cars93_miss.csv')\n",
    "df[\"Min.Price\"].fillna(value=df[\"Min.Price\"].median(),inplace=True)\n",
    "df[\"Max.Price\"].fillna(value=df[\"Max.Price\"].median(),inplace=True)"
   ]
  },
  {
   "cell_type": "code",
   "execution_count": null,
   "metadata": {},
   "outputs": [],
   "source": [
    "#43"
   ]
  },
  {
   "cell_type": "code",
   "execution_count": null,
   "metadata": {},
   "outputs": [],
   "source": [
    "#44 Select a column as a dataframe, not series\n",
    "df=pd.DataFrame(np.arange(20).reshape(-1, 5), columns=list(\"abcde\"))\n",
    "temp=(df.iloc[:,[0]])"
   ]
  },
  {
   "cell_type": "code",
   "execution_count": null,
   "metadata": {},
   "outputs": [],
   "source": [
    "#45 Swap two columns using column index\n",
    "df=pd.DataFrame(np.arange(20).reshape(-1, 5), columns=list(\"abcde\"))\n",
    "def switch_col1(df,col1,col2):\n",
    "    col_list=list(df)\n",
    "    col_list[0],col_list[2]=col_list[2],col_list[0]\n",
    "    df.columns=col_list\n",
    "    return df\n",
    "df=switch_col1(df,0,2)\n",
    "df=df.sort_index(axis=1,ascending=False)"
   ]
  },
  {
   "cell_type": "code",
   "execution_count": null,
   "metadata": {},
   "outputs": [],
   "source": [
    "#45 Swap two columns using column names\n",
    "df=pd.DataFrame(np.arange(20).reshape(-1, 5), columns=list(\"abcde\"))\n",
    "def switch_col2(df,col1,col2):\n",
    "    col_list=list(df)\n",
    "    i,j=col_list.index(col1),col_list.index(col2)\n",
    "    col_list[i],col_list[j]=col_list[j],col_list[i]\n",
    "    return df[col_list]\n",
    "switch_col2(df,\"a\",\"c\")"
   ]
  },
  {
   "cell_type": "code",
   "execution_count": null,
   "metadata": {},
   "outputs": [],
   "source": [
    "#46 Set the number of rows and columns displayed\n",
    "df=pd.read_csv(\"https://raw.githubusercontent.com/selva86/datasets/master/Cars93_miss.csv\")\n",
    "pd.set_option(\"display.max_columns\",10)\n",
    "pd.set_option(\"display.max_rows\",10)"
   ]
  },
  {
   "cell_type": "code",
   "execution_count": null,
   "metadata": {},
   "outputs": [],
   "source": [
    "#47 Set decimal point in scientific notation\n",
    "df=pd.DataFrame(np.random.random(4)**10, columns=['random'])\n",
    "pd.options.display.float_format=\"{:.4f}\".format\n",
    "df"
   ]
  },
  {
   "cell_type": "code",
   "execution_count": null,
   "metadata": {},
   "outputs": [],
   "source": [
    "#48 Change values to percentages\n",
    "df=pd.DataFrame(np.random.random(4), columns=['random'])\n",
    "df=df.style.format({'random': '{0:.2%}'.format})"
   ]
  },
  {
   "cell_type": "code",
   "execution_count": 17,
   "metadata": {},
   "outputs": [
    {
     "name": "stdout",
     "output_type": "stream",
     "text": [
      "   Manufacturer    Model     Type\n",
      "0         Acura  Integra    Small\n",
      "20     Chrysler  LeBaron  Compact\n",
      "40        Honda  Prelude   Sporty\n",
      "60      Mercury   Cougar  Midsize\n",
      "80       Subaru   Loyale    Small\n"
     ]
    }
   ],
   "source": [
    "#49 Filter the Nth column in dataframe\n",
    "df=pd.read_csv('https://raw.githubusercontent.com/selva86/datasets/master/Cars93_miss.csv')\n",
    "print(df.iloc[::20,:][[\"Manufacturer\",\"Model\",\"Type\"]])"
   ]
  }
 ],
 "metadata": {
  "interpreter": {
   "hash": "d4ca260931255454fde840190d1592bc9540e5d22da7c62476b4271349462b5e"
  },
  "kernelspec": {
   "display_name": "Python 3.9.7 ('base')",
   "language": "python",
   "name": "python3"
  },
  "language_info": {
   "codemirror_mode": {
    "name": "ipython",
    "version": 3
   },
   "file_extension": ".py",
   "mimetype": "text/x-python",
   "name": "python",
   "nbconvert_exporter": "python",
   "pygments_lexer": "ipython3",
   "version": "3.9.7"
  },
  "orig_nbformat": 4
 },
 "nbformat": 4,
 "nbformat_minor": 2
}
