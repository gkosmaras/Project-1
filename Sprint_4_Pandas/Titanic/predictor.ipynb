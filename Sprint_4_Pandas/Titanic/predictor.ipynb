{
 "cells": [
  {
   "cell_type": "code",
   "execution_count": null,
   "metadata": {},
   "outputs": [],
   "source": [
    "import pandas as pd\n",
    "import numpy as np\n",
    "import matplotlib.pyplot as plt\n",
    "import seaborn as sns\n",
    "import re"
   ]
  },
  {
   "cell_type": "code",
   "execution_count": null,
   "metadata": {},
   "outputs": [],
   "source": [
    "df=pd.read_csv(\"ds_test.csv\")\n",
    "df.insert(5,\"FamSize\",(df.Parch+df.SibSp),True)\n",
    "df=df.drop([\"Ticket\",\"SibSp\",\"Parch\",\"Embarked\",\"Fare\"],axis=1)                             \n",
    "#Add relatives together in a column to get the family size            \n",
    "df[\"Age\"].fillna(value=df[\"Age\"].ffill(),inplace=True)\n",
    "df"
   ]
  },
  {
   "cell_type": "code",
   "execution_count": null,
   "metadata": {},
   "outputs": [],
   "source": [
    "#Age is missing calues, but we can fill it. Cabin is missing a lot, so we can not extrapolate based on existing data\n",
    "df[\"Age\"].fillna(value=df[\"Age\"].mean(),inplace=True)"
   ]
  },
  {
   "cell_type": "code",
   "execution_count": null,
   "metadata": {},
   "outputs": [],
   "source": [
    "#Create a function to extract the deck code from the cabin number, X for NaN\n",
    "def deck(cabin_no):\n",
    "    deck_no=\"X\"\n",
    "    if not pd.isna(cabin_no):\n",
    "        deck_no=re.search(r\"([A-Za-z]+)\",str(cabin_no)).group(0)\n",
    "    return deck_no"
   ]
  },
  {
   "cell_type": "code",
   "execution_count": null,
   "metadata": {},
   "outputs": [],
   "source": [
    "#Put the results from the function in a new column\n",
    "df[\"Deck\"]=df[\"Cabin\"].map(lambda x: deck(x))\n",
    "df.drop(columns=[\"Cabin\"],inplace=True)\n",
    "#No missing values in the dataset"
   ]
  },
  {
   "cell_type": "code",
   "execution_count": null,
   "metadata": {},
   "outputs": [],
   "source": [
    "#Function to get name titles \n",
    "def title_gen(namen):\n",
    "    title = re.search(r\"(,[A-Za-z ]+\\.?)\", namen).group(0).replace(\", \",\"\")\n",
    "    return title\n",
    "\n",
    "df[\"Title\"]=df[\"Name\"].map(lambda x: title_gen(x))"
   ]
  },
  {
   "cell_type": "code",
   "execution_count": null,
   "metadata": {},
   "outputs": [],
   "source": [
    "#Function to extract the title from the name and sort them based on sex and social ranking\n",
    "def title_mod(i):\n",
    "    title=i[\"Title\"]\n",
    "    if title in ['Don.', 'Major.', 'Lady.', 'Sir.', 'Col.', 'Capt.',\n",
    "       'the Countess.', 'Jonkheer.']:\n",
    "        if i[\"Sex\"]==\"female\":\n",
    "            return \"Noblewoman\"\n",
    "        else:\n",
    "            return \"Nobleman\"\n",
    "    elif title in ['Dr.','Mrs.', 'Miss.','Mme.','Ms.','Mlle.'] and i[\"Sex\"]==\"female\":\n",
    "        return \"Mrs\"\n",
    "    else:\n",
    "        return \"Mr\"\n",
    "\n",
    "df[\"Title\"]=df.apply(lambda x: title_mod(x), axis=1)\n",
    "#We have created a column with each passenger's title, so we can drop the name column\n",
    "df.drop(columns=[\"Name\"],inplace=True)"
   ]
  },
  {
   "cell_type": "code",
   "execution_count": null,
   "metadata": {},
   "outputs": [],
   "source": [
    "answer=np.ones(418)\n",
    "answer=answer.tolist()\n",
    "for i in range(len(df)):\n",
    "    if df.loc[i][\"Age\"]>=18:\n",
    "        if df.loc[i][\"Sex\"]==\"male\":\n",
    "            if df.loc[i][\"Pclass\"]==1:\n",
    "                answer[i]*=0.35\n",
    "            elif df.loc[i][\"Pclass\"]==2:\n",
    "                answer[i]*=0.07\n",
    "            else:\n",
    "                answer[i]*=0.11\n",
    "        else:\n",
    "            if df.loc[i][\"Pclass\"]==1:\n",
    "                answer[i]*=0.98\n",
    "            elif df.loc[i][\"Pclass\"]==2:\n",
    "                answer[i]*=0.90\n",
    "            else:\n",
    "                answer[i]*=0.48\n",
    "    else:\n",
    "        if df.loc[i][\"Pclass\"]==1:\n",
    "            answer[i]*=0.8\n",
    "        elif df.loc[i][\"Pclass\"]==2:\n",
    "            answer[i]*=0.85\n",
    "        else:\n",
    "            answer[i]*=0.37"
   ]
  },
  {
   "cell_type": "code",
   "execution_count": null,
   "metadata": {},
   "outputs": [],
   "source": [
    "for i in range(len(df)):\n",
    "    if df.loc[i][\"FamSize\"]==0:\n",
    "        answer[i]*=0.3\n",
    "    elif df.loc[i][\"FamSize\"]==1:\n",
    "        answer[i]*=0.55\n",
    "    elif df.loc[i][\"FamSize\"]==2:\n",
    "        answer[i]*=0.58\n",
    "    elif df.loc[i][\"FamSize\"]==3:\n",
    "        answer[i]*=0.72\n",
    "    elif df.loc[i][\"FamSize\"]==4:\n",
    "        answer[i]*=0.2\n",
    "    elif df.loc[i][\"FamSize\"]==5:\n",
    "        answer[i]*=0.14\n",
    "    elif df.loc[i][\"FamSize\"]==6:\n",
    "        answer[i]*=0.33\n",
    "    else:\n",
    "        answer[i]*=0    "
   ]
  },
  {
   "cell_type": "code",
   "execution_count": null,
   "metadata": {},
   "outputs": [],
   "source": [
    "for i in range(len(df)):\n",
    "    if df.loc[i][\"Deck\"]==\"A\":\n",
    "        answer[i]*=0.47\n",
    "    elif df.loc[i][\"Deck\"]==\"B\":\n",
    "        answer[i]*=0.73\n",
    "    elif df.loc[i][\"Deck\"]==\"C\":\n",
    "        answer[i]*=0.59\n",
    "    elif df.loc[i][\"Deck\"]==\"D\":\n",
    "        answer[i]*=0.76\n",
    "    elif df.loc[i][\"Deck\"]==\"E\":\n",
    "        answer[i]*=0.75\n",
    "    elif df.loc[i][\"Deck\"]==\"F\":\n",
    "        answer[i]*=0.61\n",
    "    elif df.loc[i][\"Deck\"]==\"G\":\n",
    "        answer[i]*=0.5\n",
    "    else:\n",
    "        answer[i]*=0.3"
   ]
  },
  {
   "cell_type": "code",
   "execution_count": null,
   "metadata": {},
   "outputs": [],
   "source": [
    "temp=np.array(answer)\n",
    "temp=np.around(temp,1)\n",
    "temp=temp.tolist()\n",
    "for i in range(len(temp)):\n",
    "    if temp[i]>=0.1:\n",
    "        temp[i]=1\n",
    "    else:\n",
    "        temp[i]=0\n",
    "\n",
    "df.insert(6,\"Survived\",temp)"
   ]
  },
  {
   "cell_type": "code",
   "execution_count": null,
   "metadata": {},
   "outputs": [],
   "source": [
    "answer=df[[\"PassengerId\",\"Survived\"]]\n",
    "answer=pd.DataFrame(answer,columns=[\"PassengerId\",\"Survived\"])\n",
    "answer.to_csv(\"answer.csv\", sep='\\t',index=False)"
   ]
  }
 ],
 "metadata": {
  "interpreter": {
   "hash": "d4ca260931255454fde840190d1592bc9540e5d22da7c62476b4271349462b5e"
  },
  "kernelspec": {
   "display_name": "Python 3.9.7 ('base')",
   "language": "python",
   "name": "python3"
  },
  "language_info": {
   "codemirror_mode": {
    "name": "ipython",
    "version": 3
   },
   "file_extension": ".py",
   "mimetype": "text/x-python",
   "name": "python",
   "nbconvert_exporter": "python",
   "pygments_lexer": "ipython3",
   "version": "3.9.7"
  },
  "orig_nbformat": 4
 },
 "nbformat": 4,
 "nbformat_minor": 2
}
