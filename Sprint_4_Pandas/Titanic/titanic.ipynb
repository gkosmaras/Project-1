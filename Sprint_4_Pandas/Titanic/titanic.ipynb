{
 "cells": [
  {
   "cell_type": "code",
   "execution_count": null,
   "metadata": {},
   "outputs": [],
   "source": [
    "import pandas as pd\n",
    "import numpy as np\n",
    "import matplotlib.pyplot as plt\n",
    "import seaborn as sns\n",
    "import re"
   ]
  },
  {
   "cell_type": "code",
   "execution_count": null,
   "metadata": {},
   "outputs": [],
   "source": [
    "df=pd.read_csv(\"ds_train.csv\")\n",
    "df=df.drop([\"PassengerId\",\"Ticket\",],axis=1)                \n",
    "df.insert(5,\"FamSize\",(df.Parch+df.SibSp),True)             \n",
    "#Add relatives together in a column to get the family size\n",
    "df=df.rename(columns={\"Parch\":\"ParCh\"})                     \n",
    "df[\"Survived\"]=df[\"Survived\"].replace({\"yes\":1,\"no\":0})\n",
    "df[\"Age\"].fillna(value=df[\"Age\"].ffill(),inplace=True)"
   ]
  },
  {
   "cell_type": "code",
   "execution_count": null,
   "metadata": {},
   "outputs": [],
   "source": [
    "#Age and Embarked are missing calues, but we can fill them. Cabin is missing a lot, so we can not extrapolate based on existing data\n",
    "df[\"Age\"].fillna(value=df[\"Age\"].mean(),inplace=True)\n",
    "df['Embarked'].fillna(df[\"Embarked\"].mode()[0],inplace=True)"
   ]
  },
  {
   "cell_type": "code",
   "execution_count": null,
   "metadata": {},
   "outputs": [],
   "source": [
    "#Create a function to extract the deck code from the cabin number, X for NaN\n",
    "def deck(cabin_no):\n",
    "    deck_no=\"X\"\n",
    "    if not pd.isna(cabin_no):\n",
    "        deck_no=re.search(r\"([A-Za-z]+)\",str(cabin_no)).group(0)\n",
    "    return deck_no"
   ]
  },
  {
   "cell_type": "code",
   "execution_count": null,
   "metadata": {},
   "outputs": [],
   "source": [
    "#Put the results from the function in a new column\n",
    "df[\"Deck\"]=df[\"Cabin\"].map(lambda x: deck(x))\n",
    "df.drop(columns=[\"Cabin\"],inplace=True)\n",
    "df[\"Deck\"]=df[\"Deck\"].replace(\"T\",\"B\")\n",
    "#Replace deck T as it was storage. Judging by fare, class and frequency, we will replace it with deck B\n",
    "#No missing values in the dataset"
   ]
  },
  {
   "cell_type": "code",
   "execution_count": null,
   "metadata": {},
   "outputs": [],
   "source": [
    "#Function to get name titles \n",
    "def title_gen(namen):\n",
    "    title = re.search(r\"(,[A-Za-z ]+\\.?)\", namen).group(0).replace(\", \",\"\")\n",
    "    return title\n",
    "\n",
    "df[\"Title\"]=df[\"Name\"].map(lambda x: title_gen(x))"
   ]
  },
  {
   "cell_type": "code",
   "execution_count": null,
   "metadata": {},
   "outputs": [],
   "source": [
    "#Function to extract the title from the name and sort them based on sex and social ranking\n",
    "def title_mod(i):\n",
    "    title=i[\"Title\"]\n",
    "    if title in ['Don.', 'Major.', 'Lady.', 'Sir.', 'Col.', 'Capt.',\n",
    "       'the Countess.', 'Jonkheer.']:\n",
    "        if i[\"Sex\"]==\"female\":\n",
    "            return \"Noblewoman\"\n",
    "        else:\n",
    "            return \"Nobleman\"\n",
    "    elif title in ['Dr.','Mrs.', 'Miss.','Mme.','Ms.','Mlle.'] and i[\"Sex\"]==\"female\":\n",
    "        return \"Mrs\"\n",
    "    else:\n",
    "        return \"Mr\"\n",
    "\n",
    "df[\"Title\"]=df.apply(lambda x: title_mod(x), axis=1)\n",
    "#We have created a column with each passenger's title, so we can drop the name column\n",
    "df.drop(columns=[\"Name\"],inplace=True)"
   ]
  },
  {
   "cell_type": "code",
   "execution_count": null,
   "metadata": {},
   "outputs": [],
   "source": [
    "#Find mortality numbers and rate for children divided by class\n",
    "temp_list=np.zeros((3,4))\n",
    "for i in range(0,3):\n",
    "    temp=df.loc[(df.Age<18) & (df.Pclass==i+1)][\"Survived\"]\n",
    "    temp_list[i,0]=temp.sum()\n",
    "    temp_list[i,1]=len(temp)\n",
    "    temp_list[i,2]=temp_list[i,1]-temp_list[i,0]\n",
    "    temp_list[i,3]=temp_list[i,0]/temp_list[i,1]\n",
    "child=pd.DataFrame(temp_list)\n",
    "temp={0:\"1\",1:\"2\",2:\"3\"}\n",
    "child=child.rename(index=temp)\n",
    "child.index.names=[\"Class\"]\n",
    "temp={0:\"Survived\",1:\"Total\",2:\"Dead\",3:\"Surv.Rate\"}\n",
    "child=child.rename(columns=temp)"
   ]
  },
  {
   "cell_type": "code",
   "execution_count": null,
   "metadata": {},
   "outputs": [],
   "source": [
    "#Find mortality numbers and rate for adults divided by class\n",
    "temp_list=np.zeros((3,4))\n",
    "for i in range(0,3):\n",
    "    temp=df.loc[(df.Age>=18) & (df.Sex==\"male\") & (df.Pclass==i+1)][\"Survived\"]\n",
    "    temp_list[i,0]=temp.sum()\n",
    "    temp_list[i,1]=len(temp)\n",
    "    temp_list[i,2]=temp_list[i,1]-temp_list[i,0]\n",
    "    temp_list[i,3]=temp_list[i,0]/temp_list[i,1]\n",
    "male_vict=pd.DataFrame(temp_list)\n",
    "temp={0:\"1\",1:\"2\",2:\"3\"}\n",
    "male_vict=male_vict.rename(index=temp)\n",
    "male_vict.index.names=[\"Class\"]\n",
    "temp={0:\"Survived\",1:\"Total\",2:\"Dead\",3:\"Surv.Rate\"}\n",
    "male_vict=male_vict.rename(columns=temp)"
   ]
  },
  {
   "cell_type": "code",
   "execution_count": null,
   "metadata": {},
   "outputs": [],
   "source": [
    "temp_list=np.zeros((3,4))\n",
    "for i in range(0,3):\n",
    "    temp=df.loc[(df.Age>=18) & (df.Sex==\"female\") & (df.Pclass==i+1)][\"Survived\"]\n",
    "    temp_list[i,0]=temp.sum()\n",
    "    temp_list[i,1]=len(temp)\n",
    "    temp_list[i,2]=temp_list[i,1]-temp_list[i,0]\n",
    "    temp_list[i,3]=temp_list[i,0]/temp_list[i,1]\n",
    "fem_vict=pd.DataFrame(temp_list)\n",
    "temp={0:\"1\",1:\"2\",2:\"3\"}\n",
    "fem_vict=fem_vict.rename(index=temp)\n",
    "fem_vict.index.names=[\"Class\"]\n",
    "temp={0:\"Survived\",1:\"Total\",2:\"Dead\",3:\"Surv.Rate\"}\n",
    "fem_vict=fem_vict.rename(columns=temp)"
   ]
  },
  {
   "cell_type": "code",
   "execution_count": null,
   "metadata": {},
   "outputs": [],
   "source": [
    "print(male_vict,fem_vict,child)\n",
    "#Almost all women survived, especially in 1st and 2nd class, half of them in 3rd class\n",
    "#Majority of children survived, especially in 1st and 2nd class, and about 40% in 3rd class"
   ]
  },
  {
   "cell_type": "code",
   "execution_count": null,
   "metadata": {},
   "outputs": [],
   "source": [
    "fam_surv=df[[\"FamSize\",\"Survived\"]]\n",
    "fam_surv.groupby(by=\"FamSize\").mean()\n",
    "#Most of the survivors seems to have a family size of 1-3 persons\n",
    "#Single passengers and larger families has higher mortality rates"
   ]
  },
  {
   "cell_type": "code",
   "execution_count": null,
   "metadata": {},
   "outputs": [],
   "source": [
    "temp=df[[\"Deck\",\"Survived\"]]\n",
    "print(temp.groupby(by=\"Deck\").mean())\n",
    "#Passengers at decks B, D and E had a higher survival rate, followed by decks C and F\n",
    "#Decks G and A had ~50% survival rate, while passengers of unknown decks were more likely to perish"
   ]
  }
 ],
 "metadata": {
  "interpreter": {
   "hash": "d4ca260931255454fde840190d1592bc9540e5d22da7c62476b4271349462b5e"
  },
  "kernelspec": {
   "display_name": "Python 3.9.7 ('base')",
   "language": "python",
   "name": "python3"
  },
  "language_info": {
   "codemirror_mode": {
    "name": "ipython",
    "version": 3
   },
   "file_extension": ".py",
   "mimetype": "text/x-python",
   "name": "python",
   "nbconvert_exporter": "python",
   "pygments_lexer": "ipython3",
   "version": "3.9.7"
  },
  "orig_nbformat": 4
 },
 "nbformat": 4,
 "nbformat_minor": 2
}
