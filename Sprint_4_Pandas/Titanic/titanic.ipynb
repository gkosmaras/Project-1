{
 "cells": [
  {
   "cell_type": "code",
   "execution_count": 113,
   "metadata": {},
   "outputs": [],
   "source": [
    "import pandas as pd\n",
    "import numpy as np\n",
    "import matplotlib.pyplot as plt\n",
    "import seaborn as sns\n",
    "import re"
   ]
  },
  {
   "cell_type": "code",
   "execution_count": 114,
   "metadata": {},
   "outputs": [],
   "source": [
    "df=pd.read_csv(\"ds_train.csv\")\n",
    "df=df.drop([\"PassengerId\",\"Ticket\",],axis=1)                \n",
    "df.insert(5,\"FamSize\",(df.Parch+df.SibSp),True)             \n",
    "#Add relatives together in a column to get the family size\n",
    "df=df.rename(columns={\"Parch\":\"ParCh\"})                     \n",
    "df[\"Survived\"]=df[\"Survived\"].replace({\"yes\":1,\"no\":0})\n",
    "df[\"Age\"].fillna(value=df[\"Age\"].ffill(),inplace=True)"
   ]
  },
  {
   "cell_type": "code",
   "execution_count": 115,
   "metadata": {},
   "outputs": [],
   "source": [
    "#Age and Embarked are missing calues, but we can fill them. Cabin is missing a lot, so we can not extrapolate based on existing data\n",
    "df[\"Age\"].fillna(value=df[\"Age\"].mean(),inplace=True)\n",
    "df['Embarked'].fillna(df[\"Embarked\"].mode()[0],inplace=True)"
   ]
  },
  {
   "cell_type": "code",
   "execution_count": 116,
   "metadata": {},
   "outputs": [],
   "source": [
    "#Create a function to extract the deck code from the cabin number, X for NaN\n",
    "def deck(cabin_no):\n",
    "    deck_no=\"X\"\n",
    "    if not pd.isna(cabin_no):\n",
    "        deck_no=re.search(r\"([A-Za-z]+)\",str(cabin_no)).group(0)\n",
    "    return deck_no"
   ]
  },
  {
   "cell_type": "code",
   "execution_count": 117,
   "metadata": {},
   "outputs": [],
   "source": [
    "#Put the results from the function in a new column\n",
    "df[\"Deck\"]=df[\"Cabin\"].map(lambda x: deck(x))\n",
    "df.drop(columns=[\"Cabin\"],inplace=True)\n",
    "df[\"Deck\"]=df[\"Deck\"].replace(\"T\",\"B\")\n",
    "#Replace deck T as it was storage. Judging by fare, class and frequency, we will replace it with deck B\n",
    "#No missing values in the dataset"
   ]
  },
  {
   "cell_type": "code",
   "execution_count": 118,
   "metadata": {},
   "outputs": [],
   "source": [
    "#Function to get name titles \n",
    "def title_gen(namen):\n",
    "    title = re.search(r\"(,[A-Za-z ]+\\.?)\", namen).group(0).replace(\", \",\"\")\n",
    "    return title\n",
    "\n",
    "df[\"Title\"]=df[\"Name\"].map(lambda x: title_gen(x))"
   ]
  },
  {
   "cell_type": "code",
   "execution_count": 119,
   "metadata": {},
   "outputs": [],
   "source": [
    "#Function to extract the title from the name and sort them based on sex and social ranking\n",
    "def title_mod(i):\n",
    "    title=i[\"Title\"]\n",
    "    if title in ['Don.', 'Major.', 'Lady.', 'Sir.', 'Col.', 'Capt.',\n",
    "       'the Countess.', 'Jonkheer.']:\n",
    "        if i[\"Sex\"]==\"female\":\n",
    "            return \"Noblewoman\"\n",
    "        else:\n",
    "            return \"Nobleman\"\n",
    "    elif title in ['Dr.','Mrs.', 'Miss.','Mme.','Ms.','Mlle.'] and i[\"Sex\"]==\"female\":\n",
    "        return \"Mrs\"\n",
    "    else:\n",
    "        return \"Mr\"\n",
    "\n",
    "df[\"Title\"]=df.apply(lambda x: title_mod(x), axis=1)\n",
    "#We have created a column with each passenger's title, so we can drop the name column\n",
    "df.drop(columns=[\"Name\"],inplace=True)"
   ]
  },
  {
   "cell_type": "code",
   "execution_count": 120,
   "metadata": {},
   "outputs": [],
   "source": [
    "#Find mortality numbers and rate for children divided by class\n",
    "temp_list=np.zeros((3,4))\n",
    "for i in range(0,3):\n",
    "    temp=df.loc[(df.Age<18) & (df.Pclass==i+1)][\"Survived\"]\n",
    "    temp_list[i,0]=temp.sum()\n",
    "    temp_list[i,1]=len(temp)\n",
    "    temp_list[i,2]=temp_list[i,1]-temp_list[i,0]\n",
    "    temp_list[i,3]=temp_list[i,0]/temp_list[i,1]\n",
    "child=pd.DataFrame(temp_list)\n",
    "temp={0:\"1\",1:\"2\",2:\"3\"}\n",
    "child=child.rename(index=temp)\n",
    "child.index.names=[\"Class\"]\n",
    "temp={0:\"Survived\",1:\"Total\",2:\"Dead\",3:\"Surv.Rate\"}\n",
    "child=child.rename(columns=temp)"
   ]
  },
  {
   "cell_type": "code",
   "execution_count": 121,
   "metadata": {},
   "outputs": [],
   "source": [
    "#Find mortality numbers and rate for adults divided by class\n",
    "temp_list=np.zeros((3,4))\n",
    "for i in range(0,3):\n",
    "    temp=df.loc[(df.Age>=18) & (df.Sex==\"male\") & (df.Pclass==i+1)][\"Survived\"]\n",
    "    temp_list[i,0]=temp.sum()\n",
    "    temp_list[i,1]=len(temp)\n",
    "    temp_list[i,2]=temp_list[i,1]-temp_list[i,0]\n",
    "    temp_list[i,3]=temp_list[i,0]/temp_list[i,1]\n",
    "male_vict=pd.DataFrame(temp_list)\n",
    "temp={0:\"1\",1:\"2\",2:\"3\"}\n",
    "male_vict=male_vict.rename(index=temp)\n",
    "male_vict.index.names=[\"Class\"]\n",
    "temp={0:\"Survived\",1:\"Total\",2:\"Dead\",3:\"Surv.Rate\"}\n",
    "male_vict=male_vict.rename(columns=temp)"
   ]
  },
  {
   "cell_type": "code",
   "execution_count": 122,
   "metadata": {},
   "outputs": [],
   "source": [
    "temp_list=np.zeros((3,4))\n",
    "for i in range(0,3):\n",
    "    temp=df.loc[(df.Age>=18) & (df.Sex==\"female\") & (df.Pclass==i+1)][\"Survived\"]\n",
    "    temp_list[i,0]=temp.sum()\n",
    "    temp_list[i,1]=len(temp)\n",
    "    temp_list[i,2]=temp_list[i,1]-temp_list[i,0]\n",
    "    temp_list[i,3]=temp_list[i,0]/temp_list[i,1]\n",
    "fem_vict=pd.DataFrame(temp_list)\n",
    "temp={0:\"1\",1:\"2\",2:\"3\"}\n",
    "fem_vict=fem_vict.rename(index=temp)\n",
    "fem_vict.index.names=[\"Class\"]\n",
    "temp={0:\"Survived\",1:\"Total\",2:\"Dead\",3:\"Surv.Rate\"}\n",
    "fem_vict=fem_vict.rename(columns=temp)"
   ]
  },
  {
   "cell_type": "code",
   "execution_count": 123,
   "metadata": {},
   "outputs": [
    {
     "name": "stdout",
     "output_type": "stream",
     "text": [
      "       Survived  Total   Dead  Surv.Rate\n",
      "Class                                   \n",
      "1          40.0  114.0   74.0   0.350877\n",
      "2           7.0   94.0   87.0   0.074468\n",
      "3          33.0  289.0  256.0   0.114187        Survived  Total  Dead  Surv.Rate\n",
      "Class                                  \n",
      "1          80.0   82.0   2.0    0.97561\n",
      "2          58.0   64.0   6.0    0.90625\n",
      "3          50.0  105.0  55.0    0.47619        Survived  Total  Dead  Surv.Rate\n",
      "Class                                  \n",
      "1          16.0   20.0   4.0   0.800000\n",
      "2          22.0   26.0   4.0   0.846154\n",
      "3          36.0   97.0  61.0   0.371134\n"
     ]
    }
   ],
   "source": [
    "print(male_vict,fem_vict,child)\n",
    "#Almost all women survived, especially in 1st and 2nd class, half of them in 3rd class\n",
    "#Majority of children survived, especially in 1st and 2nd class, and about 40% in 3rd class"
   ]
  },
  {
   "cell_type": "code",
   "execution_count": 124,
   "metadata": {},
   "outputs": [
    {
     "data": {
      "text/html": [
       "<div>\n",
       "<style scoped>\n",
       "    .dataframe tbody tr th:only-of-type {\n",
       "        vertical-align: middle;\n",
       "    }\n",
       "\n",
       "    .dataframe tbody tr th {\n",
       "        vertical-align: top;\n",
       "    }\n",
       "\n",
       "    .dataframe thead th {\n",
       "        text-align: right;\n",
       "    }\n",
       "</style>\n",
       "<table border=\"1\" class=\"dataframe\">\n",
       "  <thead>\n",
       "    <tr style=\"text-align: right;\">\n",
       "      <th></th>\n",
       "      <th>Survived</th>\n",
       "    </tr>\n",
       "    <tr>\n",
       "      <th>FamSize</th>\n",
       "      <th></th>\n",
       "    </tr>\n",
       "  </thead>\n",
       "  <tbody>\n",
       "    <tr>\n",
       "      <th>0</th>\n",
       "      <td>0.303538</td>\n",
       "    </tr>\n",
       "    <tr>\n",
       "      <th>1</th>\n",
       "      <td>0.552795</td>\n",
       "    </tr>\n",
       "    <tr>\n",
       "      <th>2</th>\n",
       "      <td>0.578431</td>\n",
       "    </tr>\n",
       "    <tr>\n",
       "      <th>3</th>\n",
       "      <td>0.724138</td>\n",
       "    </tr>\n",
       "    <tr>\n",
       "      <th>4</th>\n",
       "      <td>0.200000</td>\n",
       "    </tr>\n",
       "    <tr>\n",
       "      <th>5</th>\n",
       "      <td>0.136364</td>\n",
       "    </tr>\n",
       "    <tr>\n",
       "      <th>6</th>\n",
       "      <td>0.333333</td>\n",
       "    </tr>\n",
       "    <tr>\n",
       "      <th>7</th>\n",
       "      <td>0.000000</td>\n",
       "    </tr>\n",
       "    <tr>\n",
       "      <th>10</th>\n",
       "      <td>0.000000</td>\n",
       "    </tr>\n",
       "  </tbody>\n",
       "</table>\n",
       "</div>"
      ],
      "text/plain": [
       "         Survived\n",
       "FamSize          \n",
       "0        0.303538\n",
       "1        0.552795\n",
       "2        0.578431\n",
       "3        0.724138\n",
       "4        0.200000\n",
       "5        0.136364\n",
       "6        0.333333\n",
       "7        0.000000\n",
       "10       0.000000"
      ]
     },
     "execution_count": 124,
     "metadata": {},
     "output_type": "execute_result"
    }
   ],
   "source": [
    "fam_surv=df[[\"FamSize\",\"Survived\"]]\n",
    "fam_surv.groupby(by=\"FamSize\").mean()\n",
    "#Most of the survivors seems to have a family size of 1-3 persons\n",
    "#Single passengers and larger families has higher mortality rates"
   ]
  },
  {
   "cell_type": "code",
   "execution_count": 125,
   "metadata": {},
   "outputs": [
    {
     "name": "stdout",
     "output_type": "stream",
     "text": [
      "      Survived\n",
      "Deck          \n",
      "A     0.466667\n",
      "B     0.729167\n",
      "C     0.593220\n",
      "D     0.757576\n",
      "E     0.750000\n",
      "F     0.615385\n",
      "G     0.500000\n",
      "X     0.299854\n"
     ]
    }
   ],
   "source": [
    "temp=df[[\"Deck\",\"Survived\"]]\n",
    "print(temp.groupby(by=\"Deck\").mean())\n",
    "#Passengers at decks B, D and E had a higher survival rate, followed by decks C and F\n",
    "#Decks G and A had ~50% survival rate, while passengers of unknown decks were more likely to perish"
   ]
  },
  {
   "cell_type": "code",
   "execution_count": 126,
   "metadata": {},
   "outputs": [],
   "source": [
    "import numpy as np\n",
    "import pandas as pd\n",
    "import seaborn as sns\n",
    "import matplotlib.pyplot as plt\n",
    "from sklearn import metrics\n",
    "from sklearn.model_selection import train_test_split, RandomizedSearchCV, GridSearchCV, cross_val_score\n",
    "from sklearn.preprocessing import MinMaxScaler, StandardScaler, LabelEncoder\n",
    "from sklearn.linear_model import LogisticRegression\n",
    "from sklearn.metrics import plot_confusion_matrix, classification_report, accuracy_score, cohen_kappa_score\n",
    "from sklearn.ensemble import RandomForestClassifier, RandomForestRegressor\n",
    "df[\"Sex\"]=df[\"Sex\"].replace(\"male\",0)\n",
    "df[\"Sex\"]=df[\"Sex\"].replace(\"female\",1)\n"
   ]
  },
  {
   "cell_type": "code",
   "execution_count": 127,
   "metadata": {},
   "outputs": [],
   "source": [
    "x=df.drop([\"Survived\",\"Embarked\",\"Deck\",\"Title\"],axis=1)\n",
    "y=df[\"Survived\"]\n",
    "xtrain,xtest,ytrain,ytest=train_test_split(x,y,test_size=0.2,random_state=42)\n",
    "xtrain_norm=xtrain\n",
    "xtest_norm=xtest"
   ]
  },
  {
   "cell_type": "code",
   "execution_count": 128,
   "metadata": {},
   "outputs": [
    {
     "data": {
      "image/png": "[encoded data removed]",
      "text/plain": [
       "<Figure size 432x288 with 1 Axes>"
      ]
     },
     "metadata": {
      "needs_background": "light"
     },
     "output_type": "display_data"
    }
   ],
   "source": [
    "temp=RandomForestClassifier(n_estimators=100)\n",
    "temp.fit(xtrain,ytrain)\n",
    "feature_imp=pd.Series(temp.feature_importances_,index=x.columns[:]).sort_values(ascending=False)\n",
    "feature_imp.index=feature_imp.index.str.replace(\"_\",\" \")\n",
    "feature_imp.index=feature_imp.index.str.capitalize()\n",
    "sns.barplot(x=feature_imp,y=feature_imp.index,palette=\"rocket\",color=\"snow\").set_facecolor(color=\"snow\")\n",
    "plt.xlabel(\"Importance score\",fontsize=13)\n",
    "plt.ylabel(\"Features\",fontsize=13)\n",
    "plt.title(\"Feature importance visualization\",fontsize=15)\n",
    "plt.show()"
   ]
  },
  {
   "cell_type": "code",
   "execution_count": 129,
   "metadata": {},
   "outputs": [
    {
     "name": "stdout",
     "output_type": "stream",
     "text": [
      "0.8100558659217877\n",
      "              precision    recall  f1-score   support\n",
      "\n",
      "           0       0.83      0.85      0.84       105\n",
      "           1       0.78      0.76      0.77        74\n",
      "\n",
      "    accuracy                           0.81       179\n",
      "   macro avg       0.80      0.80      0.80       179\n",
      "weighted avg       0.81      0.81      0.81       179\n",
      "\n"
     ]
    },
    {
     "data": {
      "image/png": "[encoded data removed]",
      "text/plain": [
       "<Figure size 432x288 with 2 Axes>"
      ]
     },
     "metadata": {
      "needs_background": "light"
     },
     "output_type": "display_data"
    }
   ],
   "source": [
    "strap=False\n",
    "depth=60\n",
    "features=0.3\n",
    "samples_leaf=2\n",
    "samples_split=2\n",
    "estimators=600\n",
    "oob=False\n",
    "rf=RandomForestClassifier(n_estimators=estimators,max_depth=depth,max_features=features,\n",
    "min_samples_leaf=samples_leaf,min_samples_split=samples_split,bootstrap=strap,oob_score=oob,n_jobs=-1)\n",
    "rf.fit(xtrain_norm,ytrain)\n",
    "pred_rf=rf.predict(xtest_norm)\n",
    "a_rf=accuracy_score(ytest,pred_rf)\n",
    "print(a_rf)\n",
    "print(classification_report(ytest,pred_rf))\n",
    "plot_confusion_matrix(rf,xtest,ytest)\n",
    "plt.show()"
   ]
  }
 ],
 "metadata": {
  "interpreter": {
   "hash": "34ab73eb2a201c4b750598ec4bd41f14c725bb809bc0c8207569acb80dee3ff5"
  },
  "kernelspec": {
   "display_name": "Python 3.9.7 ('base')",
   "language": "python",
   "name": "python3"
  },
  "language_info": {
   "codemirror_mode": {
    "name": "ipython",
    "version": 3
   },
   "file_extension": ".py",
   "mimetype": "text/x-python",
   "name": "python",
   "nbconvert_exporter": "python",
   "pygments_lexer": "ipython3",
   "version": "3.9.7"
  },
  "orig_nbformat": 4
 },
 "nbformat": 4,
 "nbformat_minor": 2
}
